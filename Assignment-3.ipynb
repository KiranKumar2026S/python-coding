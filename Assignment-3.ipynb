{
 "cells": [
  {
   "cell_type": "markdown",
   "id": "e9fdd258",
   "metadata": {},
   "source": [
    "### 1) Write a Python program that prints all the numbers from 0 to 6 except 3 and 6"
   ]
  },
  {
   "cell_type": "code",
   "execution_count": 3,
   "id": "a9cc56f6",
   "metadata": {},
   "outputs": [
    {
     "name": "stdout",
     "output_type": "stream",
     "text": [
      "enter the starting number: 0\n",
      "enter the ending number: 6\n",
      "0 1 2 4 5 "
     ]
    }
   ],
   "source": [
    "num1=int(input(\"enter the starting number: \"))\n",
    "num2=int(input(\"enter the ending number: \"))\n",
    "for y in range(num1,num2):\n",
    "    if y==3:\n",
    "        continue\n",
    "    elif y==6:\n",
    "        continue\n",
    "    else:\n",
    "        print(y,end=\" \")"
   ]
  },
  {
   "cell_type": "markdown",
   "id": "f79bf6e4",
   "metadata": {},
   "source": [
    "### 2) Write a program to accept a number from a user and calculate the sum of all numbers from 1 to a given number"
   ]
  },
  {
   "cell_type": "code",
   "execution_count": 9,
   "id": "f4d86150",
   "metadata": {},
   "outputs": [
    {
     "name": "stdout",
     "output_type": "stream",
     "text": [
      "enter the number: 20\n",
      "the sum is:  210\n"
     ]
    }
   ],
   "source": [
    "num=int(input(\"enter the number: \"))\n",
    "x=1\n",
    "sum1=0\n",
    "while x<=num:\n",
    "    sum1=sum1+x\n",
    "    x=x+1\n",
    "print(\"the sum is: \",sum1)"
   ]
  },
  {
   "cell_type": "markdown",
   "id": "ef3cf488",
   "metadata": {},
   "source": [
    "### 3) Write a program to print multiplication table of a given number(input)\n"
   ]
  },
  {
   "cell_type": "code",
   "execution_count": 3,
   "id": "ad4982a2",
   "metadata": {},
   "outputs": [
    {
     "name": "stdout",
     "output_type": "stream",
     "text": [
      "enter the number: 15\n",
      "15*1=15\n",
      "15*2=30\n",
      "15*3=45\n",
      "15*4=60\n",
      "15*5=75\n",
      "15*6=90\n",
      "15*7=105\n",
      "15*8=120\n",
      "15*9=135\n",
      "15*10=150\n"
     ]
    }
   ],
   "source": [
    "y=1    \n",
    "num=int(input(\"enter the number: \"))\n",
    "while y<=10:\n",
    "    print(\"{}*{}={}\".format(num,y,num*y))\n",
    "    y=y+1"
   ]
  },
  {
   "cell_type": "markdown",
   "id": "6697c955",
   "metadata": {},
   "source": [
    "### 4) Write a program to count the total number of digits in a number using a while loop. "
   ]
  },
  {
   "cell_type": "code",
   "execution_count": 10,
   "id": "dd3608f8",
   "metadata": {},
   "outputs": [
    {
     "name": "stdout",
     "output_type": "stream",
     "text": [
      "enter the number: 2345678\n",
      "number of digits: 7\n"
     ]
    }
   ],
   "source": [
    "num=int(input(\"enter the number: \"))\n",
    "count=0\n",
    "while num>0:\n",
    "    count=count+1\n",
    "    num=num//10\n",
    "print(\"number of digits:\",count)"
   ]
  },
  {
   "cell_type": "markdown",
   "id": "173a449c",
   "metadata": {},
   "source": [
    "### 5) Write a Python program to guess a number between 1 to "
   ]
  },
  {
   "cell_type": "code",
   "execution_count": 7,
   "id": "b41d5bfb",
   "metadata": {},
   "outputs": [
    {
     "name": "stdout",
     "output_type": "stream",
     "text": [
      "guess the number: 87\n",
      "guess the number: 48\n",
      "guess the number: 35\n",
      "guess the number: 64\n",
      "guess the number: 23\n",
      "guess the number: 10\n",
      " \n",
      "Well guessed!\n"
     ]
    }
   ],
   "source": [
    "while 24>12:\n",
    "    \n",
    "    guess_number=int(input(\"guess the number: \"))\n",
    "    if guess_number==10:\n",
    "        print(\" \")\n",
    "        print(\"Well guessed!\")\n",
    "        break"
   ]
  },
  {
   "cell_type": "markdown",
   "id": "295887da",
   "metadata": {},
   "source": [
    "### 6) Write a Python program which iterates the integers from 1 to 60. For multiples of three print \"Fizz\" instead of the number and for the multiples of five print \"Buzz\". For numbers which are multiples of both three and five print \"FizzBuzz\"."
   ]
  },
  {
   "cell_type": "code",
   "execution_count": 5,
   "id": "27b045ae",
   "metadata": {},
   "outputs": [
    {
     "name": "stdout",
     "output_type": "stream",
     "text": [
      "1 2 Fizz 4 Buzz Fizz 7 8 Fizz Buzz 11 Fizz 13 14 FizzBuzz 16 17 Fizz 19 Buzz Fizz 22 23 Fizz Buzz 26 Fizz 28 29 FizzBuzz 31 32 Fizz 34 Buzz Fizz 37 38 Fizz Buzz 41 Fizz 43 44 FizzBuzz 46 47 Fizz 49 Buzz Fizz 52 53 Fizz Buzz 56 Fizz 58 59 FizzBuzz "
     ]
    }
   ],
   "source": [
    "x=1\n",
    "while x<=60:\n",
    "    if x%3==0 and x%5==0:\n",
    "        print(\"FizzBuzz\",end=\" \")\n",
    "    elif x%5==0:\n",
    "        print(\"Buzz\",end=\" \")\n",
    "    elif x%3==0:\n",
    "        print(\"Fizz\",end=\" \")\n",
    "    else:\n",
    "        print(x,end=\" \")\n",
    "    x=x+1"
   ]
  },
  {
   "cell_type": "markdown",
   "id": "131bd29b",
   "metadata": {},
   "source": [
    "### 7) Write a Python program that accepts a string and calculate the number of digits and letters"
   ]
  },
  {
   "cell_type": "code",
   "execution_count": 2,
   "id": "d29a7a9b",
   "metadata": {},
   "outputs": [
    {
     "name": "stdout",
     "output_type": "stream",
     "text": [
      "enter the string: string12.34\n",
      " \n",
      "the number of digits:  4\n",
      " \n",
      "the number of letters:  6\n"
     ]
    }
   ],
   "source": [
    "str1=input(\"enter the string: \")\n",
    "count1=0\n",
    "count2=0\n",
    "for y in range(len(str1)):\n",
    "    if str1[y].isdigit():\n",
    "        count1=count1+1\n",
    "    elif str1[y].isalpha():\n",
    "        count2=count2+1\n",
    "print(\" \")     \n",
    "print(\"the number of digits: \",count1)\n",
    "print(\" \")\n",
    "print(\"the number of letters: \",count2)"
   ]
  },
  {
   "cell_type": "markdown",
   "id": "44ca8190",
   "metadata": {},
   "source": [
    "### 8) Write a Python program to check the validity of password input by users. "
   ]
  },
  {
   "cell_type": "code",
   "execution_count": 2,
   "id": "f1a52a12",
   "metadata": {},
   "outputs": [
    {
     "name": "stdout",
     "output_type": "stream",
     "text": [
      "enter the new password: Kiran143@\n",
      "password is valid\n"
     ]
    }
   ],
   "source": [
    "password=input(\"enter the new password: \")\n",
    "small=['a','b','c','d','e','f','g','h','i','j','k','l','m','n','o','p','q','r','s','t','u','v','w','x','y','z']\n",
    "capitals=['A','B','C','D','E','F','G','H','I','J','K','L','M','N','O','P','Q','R','S','T','U','V','W','X','Y','Z']\n",
    "numbers=['0','1','2','3','4','5','6','7','8','9']\n",
    "symbols=['#','$','@']\n",
    "count,count1,count2,count3=0,0,0,0\n",
    "if(6<=len(password)<=16):\n",
    "    r=[]\n",
    "    for i in range(len(password)):\n",
    "        r.append(password[i])\n",
    "    for i in range(len(r)):\n",
    "        if(r[i] in small):\n",
    "            count+=1\n",
    "    if(count>0):\n",
    "        for i in range(len(r)):\n",
    "            if(r[i] in capitals):\n",
    "                count1+=1\n",
    "    if(count1>0):\n",
    "        for i in range(len(r)):\n",
    "            if(r[i] in numbers):\n",
    "                count2+=1\n",
    "    if(count2>0):\n",
    "        for i in range(len(r)):\n",
    "            if(r[i] in symbols):\n",
    "                count3+=1\n",
    "                print(\"password is valid\")\n",
    "    else:\n",
    "        print(\"password is invalid\")\n",
    "else:\n",
    "    print(\"password is invalid\")\n"
   ]
  },
  {
   "cell_type": "markdown",
   "id": "2c4be19b",
   "metadata": {},
   "source": [
    "### 9) Write a program in Python to reverse a word by using while loop"
   ]
  },
  {
   "cell_type": "code",
   "execution_count": 12,
   "id": "be342dcd",
   "metadata": {},
   "outputs": [
    {
     "name": "stdout",
     "output_type": "stream",
     "text": [
      "enter the word: welcome\n",
      "the reversed word is: emoclew\n"
     ]
    }
   ],
   "source": [
    "word=input(\"enter the word: \")\n",
    "reverse=\"\"\n",
    "while len(word)>0:\n",
    "        char=word[-1]\n",
    "        word=word[0:-1]\n",
    "        reverse=reverse+char\n",
    "print(\"the reversed word is:\",reverse)"
   ]
  },
  {
   "cell_type": "markdown",
   "id": "1d2019c6",
   "metadata": {},
   "source": [
    "### 10) Write a program which takes 10 integers as input using loop and print their average value on the screen"
   ]
  },
  {
   "cell_type": "code",
   "execution_count": 1,
   "id": "20b9da65",
   "metadata": {},
   "outputs": [
    {
     "name": "stdout",
     "output_type": "stream",
     "text": [
      "enter the number: 1\n",
      "enter the number: 2\n",
      "enter the number: 3\n",
      "enter the number: 4\n",
      "enter the number: 5\n",
      "enter the number: 6\n",
      "enter the number: 7\n",
      "enter the number: 8\n",
      "enter the number: 9\n",
      "enter the number: 10\n",
      " \n",
      "the average is:  5.5\n"
     ]
    }
   ],
   "source": [
    "x=1\n",
    "sum1=0\n",
    "while x<=10:\n",
    "    num=int(input(\"enter the number: \"))\n",
    "    sum1=sum1+num\n",
    "    x=x+1\n",
    "print(\" \")\n",
    "print(\"the average is: \",sum1/10)"
   ]
  },
  {
   "cell_type": "markdown",
   "id": "9e8b318b",
   "metadata": {},
   "source": [
    "### 11) Write a program which takes integer inputs from user until he/she presses “q” (Ask to press q to quit after every integer input). Print average and product of all numbers."
   ]
  },
  {
   "cell_type": "code",
   "execution_count": 3,
   "id": "19933330",
   "metadata": {},
   "outputs": [
    {
     "name": "stdout",
     "output_type": "stream",
     "text": [
      "enter the number: 21\n",
      "want to quit: w\n",
      "enter the number: 14\n",
      "want to quit: f\n",
      "enter the number: 9\n",
      "want to quit: q\n",
      " \n",
      "the average is:  14.666666666666666\n",
      " \n",
      "the product is:  2646\n"
     ]
    }
   ],
   "source": [
    "sum1=0\n",
    "prod1=1\n",
    "count=0\n",
    "while 21>16:\n",
    "    num=int(input(\"enter the number: \"))\n",
    "    sum1=sum1+num\n",
    "    prod1=prod1*num\n",
    "    count=count+1\n",
    "    quit=input(\"want to quit: \")\n",
    "    if quit==\"q\":\n",
    "        break\n",
    "print(\" \")\n",
    "print(\"the average is: \",sum1/count)\n",
    "print(\" \")\n",
    "print(\"the product is: \",prod1)"
   ]
  },
  {
   "cell_type": "markdown",
   "id": "d3c5519f",
   "metadata": {},
   "source": [
    "### 12)Write a Python program which will remove all digits or any other characters from the string except alphabets"
   ]
  },
  {
   "cell_type": "code",
   "execution_count": 10,
   "id": "80f684c7",
   "metadata": {},
   "outputs": [
    {
     "name": "stdout",
     "output_type": "stream",
     "text": [
      "enter the string: kiran143@kumar\n",
      "kirankumar"
     ]
    }
   ],
   "source": [
    "str1=input(\"enter the string: \")\n",
    "for i in str1:\n",
    "    if i.isalpha():\n",
    "        print(i,end=\"\")"
   ]
  },
  {
   "cell_type": "markdown",
   "id": "cf5f3329",
   "metadata": {},
   "source": [
    "### 13) Write a python program to find the sum of all even numbers from 0 to 10"
   ]
  },
  {
   "cell_type": "code",
   "execution_count": 24,
   "id": "e8f1ed73",
   "metadata": {},
   "outputs": [
    {
     "name": "stdout",
     "output_type": "stream",
     "text": [
      "enter the first number: 0\n",
      "enter the second number: 10\n",
      "0 2 4 6 8  \n",
      "the sum is: 20\n"
     ]
    }
   ],
   "source": [
    "num1=int(input(\"enter the first number: \"))\n",
    "num2=int(input(\"enter the second number: \"))\n",
    "sum1=0\n",
    "for y in range(num1,num2):\n",
    "    if y%2!=0:\n",
    "        continue\n",
    "    sum1=sum1+y\n",
    "    print(y,end=\" \")\n",
    "print(\" \")\n",
    "print(\"the sum is:\",sum1)"
   ]
  },
  {
   "cell_type": "markdown",
   "id": "01258cae",
   "metadata": {},
   "source": [
    "### 14) Write a python program which will accept a digit and print All the numbers before it till 0"
   ]
  },
  {
   "cell_type": "code",
   "execution_count": 18,
   "id": "aea191fd",
   "metadata": {},
   "outputs": [
    {
     "name": "stdout",
     "output_type": "stream",
     "text": [
      "enter the digit: 9\n",
      "8\n",
      "7\n",
      "6\n",
      "5\n",
      "4\n",
      "3\n",
      "2\n",
      "1\n",
      "0\n"
     ]
    }
   ],
   "source": [
    "digit=int(input(\"enter the digit: \"))\n",
    "while digit>=1:\n",
    "    digit=digit-1\n",
    "    print(digit)"
   ]
  },
  {
   "cell_type": "markdown",
   "id": "e881d920",
   "metadata": {},
   "source": [
    "### 15) Create a dynamic calculator which will run continually till you press “c”"
   ]
  },
  {
   "cell_type": "code",
   "execution_count": 19,
   "id": "fc402a35",
   "metadata": {},
   "outputs": [
    {
     "name": "stdout",
     "output_type": "stream",
     "text": [
      "enter the number: 2\n",
      "enter the symbol: *\n",
      "enter the number: 4\n",
      "2*4=8\n",
      "want to quit: k\n",
      "enter the number: 3\n",
      "enter the symbol: +\n",
      "enter the number: 7\n",
      "3+7=10\n",
      "want to quit: q\n",
      "enter the number: 8\n",
      "enter the symbol: -\n",
      "enter the number: 1\n",
      "8-1=7\n",
      "want to quit: c\n"
     ]
    }
   ],
   "source": [
    "x=5\n",
    "while x<10:\n",
    "    x=int(input(\"enter the number: \"))\n",
    "    symbol=input(\"enter the symbol: \")\n",
    "    y=int(input(\"enter the number: \"))\n",
    "    if symbol==\"-\":\n",
    "        print(\"{}-{}={}\".format(x,y,x-y))\n",
    "    elif symbol==\"*\":\n",
    "        print(\"{}*{}={}\".format(x,y,x*y))\n",
    "    elif symbol==\"+\":\n",
    "        print(\"{}+{}={}\".format(x,y,x+y))\n",
    "    else:\n",
    "        print(\"{}/{}={}\".format(x,y,x/y))\n",
    "    k=input(\"want to quit: \")\n",
    "    if k==\"c\":\n",
    "        break"
   ]
  },
  {
   "cell_type": "code",
   "execution_count": null,
   "id": "2c886ed5",
   "metadata": {},
   "outputs": [],
   "source": [
    "st1 = input(\"Please enter your own : \")\n",
    "\n",
    "st2 = ''\n",
    "while len(word)>0:\n",
    "    \n",
    "    str2="
   ]
  },
  {
   "cell_type": "code",
   "execution_count": 13,
   "id": "33ac9fc7",
   "metadata": {},
   "outputs": [
    {
     "data": {
      "text/plain": [
       "'false'"
      ]
     },
     "execution_count": 13,
     "metadata": {},
     "output_type": "execute_result"
    }
   ],
   "source": [
    "\"ab\" and (\"12\" and \"\") or \"false\""
   ]
  },
  {
   "cell_type": "code",
   "execution_count": 21,
   "id": "f337a8be",
   "metadata": {},
   "outputs": [
    {
     "data": {
      "text/plain": [
       "'false'"
      ]
     },
     "execution_count": 21,
     "metadata": {},
     "output_type": "execute_result"
    }
   ],
   "source": [
    "(\"\" or \"false\")"
   ]
  },
  {
   "cell_type": "code",
   "execution_count": 22,
   "id": "468bf8c3",
   "metadata": {},
   "outputs": [
    {
     "data": {
      "text/plain": [
       "''"
      ]
     },
     "execution_count": 22,
     "metadata": {},
     "output_type": "execute_result"
    }
   ],
   "source": [
    "(\"12\" and \"\")"
   ]
  },
  {
   "cell_type": "code",
   "execution_count": null,
   "id": "3ea04fbe",
   "metadata": {},
   "outputs": [],
   "source": []
  }
 ],
 "metadata": {
  "kernelspec": {
   "display_name": "Python 3 (ipykernel)",
   "language": "python",
   "name": "python3"
  },
  "language_info": {
   "codemirror_mode": {
    "name": "ipython",
    "version": 3
   },
   "file_extension": ".py",
   "mimetype": "text/x-python",
   "name": "python",
   "nbconvert_exporter": "python",
   "pygments_lexer": "ipython3",
   "version": "3.11.3"
  }
 },
 "nbformat": 4,
 "nbformat_minor": 5
}
