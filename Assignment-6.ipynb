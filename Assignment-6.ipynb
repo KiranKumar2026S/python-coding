{
 "cells": [
  {
   "cell_type": "markdown",
   "id": "8340e94e",
   "metadata": {},
   "source": [
    "### 1. Define a function which will return Max of three numbers "
   ]
  },
  {
   "cell_type": "code",
   "execution_count": 24,
   "id": "854b61f8",
   "metadata": {},
   "outputs": [],
   "source": [
    "def max1(x,y,z):\n",
    "    if x>y and x>z:\n",
    "        print(\"the maximum number is:\")\n",
    "        return x\n",
    "    elif y>x and y>z:\n",
    "        print(\"the maximum number is:\")\n",
    "        return y\n",
    "    else:\n",
    "        print(\"the maximum number is:\")\n",
    "        return z"
   ]
  },
  {
   "cell_type": "code",
   "execution_count": 25,
   "id": "c17fed7c",
   "metadata": {},
   "outputs": [
    {
     "name": "stdout",
     "output_type": "stream",
     "text": [
      "enter num1: 12\n",
      "enter num2: 8\n",
      "enter num3: 19\n",
      "\n",
      "the maximum number is:\n"
     ]
    },
    {
     "data": {
      "text/plain": [
       "19"
      ]
     },
     "execution_count": 25,
     "metadata": {},
     "output_type": "execute_result"
    }
   ],
   "source": [
    "x=int(input(\"enter num1: \"))\n",
    "y=int(input(\"enter num2: \"))\n",
    "z=int(input(\"enter num3: \"))\n",
    "print(\"\")\n",
    "max1(x,y,z)"
   ]
  },
  {
   "cell_type": "markdown",
   "id": "19ff6805",
   "metadata": {},
   "source": [
    "### 2. Define a Python Function to reverse a string."
   ]
  },
  {
   "cell_type": "code",
   "execution_count": 7,
   "id": "cbb8847c",
   "metadata": {},
   "outputs": [],
   "source": [
    "def reverse():\n",
    "    string=input(\"enter the string: \")\n",
    "    reverse=\"\"\n",
    "    for i in string:\n",
    "        char=string[-1]\n",
    "        string=string[0:-1]\n",
    "        reverse=reverse+char\n",
    "    return reverse\n",
    "# (or)\n",
    "def reverse1(string):\n",
    "    reverse1=\"\"\n",
    "    for i in string:\n",
    "        reverse1=i+reverse1\n",
    "    return reverse1"
   ]
  },
  {
   "cell_type": "code",
   "execution_count": 9,
   "id": "051472e2",
   "metadata": {},
   "outputs": [
    {
     "name": "stdout",
     "output_type": "stream",
     "text": [
      "enter the string: python123\n"
     ]
    },
    {
     "data": {
      "text/plain": [
       "'321nohtyp'"
      ]
     },
     "execution_count": 9,
     "metadata": {},
     "output_type": "execute_result"
    }
   ],
   "source": [
    "reverse()"
   ]
  },
  {
   "cell_type": "code",
   "execution_count": 10,
   "id": "b1dddf86",
   "metadata": {},
   "outputs": [
    {
     "name": "stdout",
     "output_type": "stream",
     "text": [
      "enter the string: python143\n"
     ]
    },
    {
     "data": {
      "text/plain": [
       "'341nohtyp'"
      ]
     },
     "execution_count": 10,
     "metadata": {},
     "output_type": "execute_result"
    }
   ],
   "source": [
    "string=input(\"enter the string: \")\n",
    "reverse1(string)"
   ]
  },
  {
   "cell_type": "markdown",
   "id": "24f86173",
   "metadata": {},
   "source": [
    "### 3. Write a Python program to define a function that accepts 2 values and return its sum, subtraction and multiplication. "
   ]
  },
  {
   "cell_type": "code",
   "execution_count": 15,
   "id": "36e6b181",
   "metadata": {},
   "outputs": [],
   "source": [
    "def cal(x,y):\n",
    "    return x+y,x-y,x*y"
   ]
  },
  {
   "cell_type": "code",
   "execution_count": 16,
   "id": "c981498d",
   "metadata": {},
   "outputs": [
    {
     "name": "stdout",
     "output_type": "stream",
     "text": [
      "enter first value: 8\n",
      "enter second value: 5\n"
     ]
    },
    {
     "data": {
      "text/plain": [
       "(13, 3, 40)"
      ]
     },
     "execution_count": 16,
     "metadata": {},
     "output_type": "execute_result"
    }
   ],
   "source": [
    "x=int(input(\"enter first value: \"))\n",
    "y=int(input(\"enter second value: \"))\n",
    "cal(x,y)"
   ]
  },
  {
   "cell_type": "markdown",
   "id": "2d5c0269",
   "metadata": {},
   "source": [
    "### 4. Define a function that accepts roll number and returns whether the student is present or absent. "
   ]
  },
  {
   "cell_type": "code",
   "execution_count": 2,
   "id": "fe269a20",
   "metadata": {},
   "outputs": [
    {
     "name": "stdout",
     "output_type": "stream",
     "text": [
      "total students:60\n",
      "no of absenties: 5\n",
      "absenties: 12\n",
      "absenties: 21\n",
      "absenties: 37\n",
      "absenties: 49\n",
      "absenties: 53\n",
      "\n",
      "all absenties: [12, 21, 37, 49, 53]\n",
      "enter the roll number to check: 25\n",
      "\n",
      "student is present\n"
     ]
    }
   ],
   "source": [
    "total_students=int(input(\"total students:\"))                  \n",
    "a=int(input(\"no of absenties: \"))\n",
    "absent_students=[]\n",
    "for i in range(a):\n",
    "    t=int(input(\"absenties: \"))\n",
    "    absent_students.append(t)\n",
    "print(\"\")\n",
    "print(\"all absenties:\",absent_students)\n",
    "\n",
    "def attendance(n):\n",
    "    if n in absent_students:\n",
    "        return print(\"student is absent\")\n",
    "    else:\n",
    "        return print(\"student is present\")\n",
    "    \n",
    "n=int(input(\"enter the roll number to check: \"))\n",
    "print(\"\")\n",
    "attendance(n)"
   ]
  },
  {
   "cell_type": "markdown",
   "id": "25798fea",
   "metadata": {},
   "source": [
    "### 5. Define a function in python that accepts n values and returns the maximum of n numbers"
   ]
  },
  {
   "cell_type": "code",
   "execution_count": 44,
   "id": "f928a033",
   "metadata": {},
   "outputs": [
    {
     "name": "stdout",
     "output_type": "stream",
     "text": [
      "no of elements: 5\n",
      "enter the elements: 25\n",
      "enter the elements: 44\n",
      "enter the elements: 57\n",
      "enter the elements: 13\n",
      "enter the elements: 26\n"
     ]
    },
    {
     "data": {
      "text/plain": [
       "57"
      ]
     },
     "execution_count": 44,
     "metadata": {},
     "output_type": "execute_result"
    }
   ],
   "source": [
    "def max2(*x):\n",
    "    x=[]\n",
    "    a=int(input(\"no of elements: \"))\n",
    "    for i in range(a):\n",
    "        k=int(input(\"enter the elements: \"))\n",
    "        x.append(k)\n",
    "        x.sort()\n",
    "        max2=x[-1]\n",
    "    return max2\n",
    "\n",
    "max2()"
   ]
  },
  {
   "cell_type": "markdown",
   "id": "2cd23139",
   "metadata": {},
   "source": [
    "### 6. Define a function which counts vowels and consonant in a word. "
   ]
  },
  {
   "cell_type": "code",
   "execution_count": 46,
   "id": "0b4b8a88",
   "metadata": {},
   "outputs": [
    {
     "name": "stdout",
     "output_type": "stream",
     "text": [
      "enter the word: kirankumar\n",
      "no of vowels: 4\n",
      "no of consonants: 6\n"
     ]
    }
   ],
   "source": [
    "def vow_con(word):\n",
    "    vowels=[\"a\",\"e\",\"i\",\"o\",\"u\"]\n",
    "    vow=0\n",
    "    con=0\n",
    "    for i in word:\n",
    "        if i in vowels:\n",
    "            vow+=1\n",
    "        else:\n",
    "            con+=1\n",
    "    print(\"no of vowels:\",vow)\n",
    "    print(\"no of consonants:\",con)\n",
    "word=input(\"enter the word: \")\n",
    "vow_con(word)"
   ]
  },
  {
   "cell_type": "markdown",
   "id": "aa5ae085",
   "metadata": {},
   "source": [
    "### 7. Define a function that returns Factorial of a number"
   ]
  },
  {
   "cell_type": "code",
   "execution_count": 6,
   "id": "ba3cd150",
   "metadata": {},
   "outputs": [
    {
     "name": "stdout",
     "output_type": "stream",
     "text": [
      "enter the number: 5\n"
     ]
    },
    {
     "data": {
      "text/plain": [
       "120"
      ]
     },
     "execution_count": 6,
     "metadata": {},
     "output_type": "execute_result"
    }
   ],
   "source": [
    "def f(x):\n",
    "    if x==0 or x==1:\n",
    "        return 1\n",
    "    else:\n",
    "        return x*f(x-1)\n",
    "        \n",
    "x=int(input(\"enter the number: \"))\n",
    "f(x)"
   ]
  },
  {
   "cell_type": "markdown",
   "id": "bad9baa6",
   "metadata": {},
   "source": [
    "### 8. Define a function that accepts radius and returns the area of a circle."
   ]
  },
  {
   "cell_type": "code",
   "execution_count": 8,
   "id": "876ea011",
   "metadata": {},
   "outputs": [
    {
     "name": "stdout",
     "output_type": "stream",
     "text": [
      "enter the radius: 3\n"
     ]
    },
    {
     "data": {
      "text/plain": [
       "28.26"
      ]
     },
     "execution_count": 8,
     "metadata": {},
     "output_type": "execute_result"
    }
   ],
   "source": [
    "def area(x):\n",
    "    area=3.14*(radius**2)\n",
    "    return area\n",
    "\n",
    "radius=float(input(\"enter the radius: \"))\n",
    "area(radius)"
   ]
  },
  {
   "cell_type": "markdown",
   "id": "db9fee6c",
   "metadata": {},
   "source": [
    "### 9. Define a function that takes a number as a parameter and check the number is prime or not."
   ]
  },
  {
   "cell_type": "code",
   "execution_count": 15,
   "id": "c64c4cfa",
   "metadata": {},
   "outputs": [
    {
     "name": "stdout",
     "output_type": "stream",
     "text": [
      "enter the number to check: 113\n"
     ]
    },
    {
     "data": {
      "text/plain": [
       "'given number is prime'"
      ]
     },
     "execution_count": 15,
     "metadata": {},
     "output_type": "execute_result"
    }
   ],
   "source": [
    "def prime(x):\n",
    "    c=0\n",
    "    for i in range(1,x+1):\n",
    "        if x%i==0:\n",
    "            c=c+1     \n",
    "    if (c>2):\n",
    "        return \"given number is not prime\"\n",
    "    else:\n",
    "        return \"given number is prime\"\n",
    "    \n",
    "x=int(input(\"enter the number to check: \"))\n",
    "prime(x)"
   ]
  },
  {
   "cell_type": "markdown",
   "id": "1e5036f5",
   "metadata": {},
   "source": [
    "### 10. Mary wants to run a 25-mile marathon. When she attempts to sign up for the marathon, she notices the sign-up sheet doesn't directly state the marathon's length. Instead, the marathon's length is listed in small, different portions. Help Mary find out how long the marathon actually is. So create a function that\n",
    "### ** Return True if the marathon is 25 miles long, otherwise, return False."
   ]
  },
  {
   "cell_type": "code",
   "execution_count": 2,
   "id": "203492ac",
   "metadata": {},
   "outputs": [
    {
     "name": "stdout",
     "output_type": "stream",
     "text": [
      "no of elements: 4\n",
      "enter the element: 8\n",
      "enter the element: -9\n",
      "enter the element: 5\n",
      "enter the element: 5\n",
      "[8, -9, 5, 5]\n"
     ]
    },
    {
     "data": {
      "text/plain": [
       "True"
      ]
     },
     "execution_count": 2,
     "metadata": {},
     "output_type": "execute_result"
    }
   ],
   "source": [
    "def marathon(x):\n",
    "    k=0\n",
    "    for i in x:\n",
    "        if (i>0):\n",
    "            k=k+i\n",
    "        elif (i<0):\n",
    "            i=-i\n",
    "            k=k+i\n",
    "    if (k>=25):\n",
    "        return True\n",
    "    else:\n",
    "        return False\n",
    "    \n",
    "x=[]\n",
    "n=int(input(\"no of elements: \"))\n",
    "for i in range(n):\n",
    "    num=int(input(\"enter the element: \"))\n",
    "    x.append(num)\n",
    "print(x)\n",
    "    \n",
    "marathon(x)"
   ]
  },
  {
   "cell_type": "markdown",
   "id": "e7167f77",
   "metadata": {},
   "source": [
    "### 11. Create a function that takes a number and returns True if the number is automorphic, False if it isn't.\n",
    "### ** number n is automorphic if n^2 ends in n."
   ]
  },
  {
   "cell_type": "code",
   "execution_count": 10,
   "id": "a4c0ed69",
   "metadata": {},
   "outputs": [
    {
     "name": "stdout",
     "output_type": "stream",
     "text": [
      "enter the number: 25\n",
      "It's an Automorphic Number\n"
     ]
    }
   ],
   "source": [
    "def automorphic(n):\n",
    "    square = pow(n, 2)\n",
    "    mod = pow(10, len(str(n)))\n",
    "    if square % mod == n:\n",
    "        print(\"It's an Automorphic Number\")\n",
    "    else:\n",
    "        print(\"It's not an Automorphic Number\")\n",
    "    \n",
    "n=int(input(\"enter the number: \"))\n",
    "automorphic(n)"
   ]
  },
  {
   "cell_type": "markdown",
   "id": "bbffedba",
   "metadata": {},
   "source": [
    "### 12) Create a function, that will take given a, b, c, and do the following:\n",
    "### Add a to itself b times and Check if the result is divisible by c.and return true if it is divisible by c or false"
   ]
  },
  {
   "cell_type": "code",
   "execution_count": 23,
   "id": "cd5e5afc",
   "metadata": {},
   "outputs": [
    {
     "name": "stdout",
     "output_type": "stream",
     "text": [
      "enter num1: 2\n",
      "enter num2: 5\n",
      "enter num3: 10\n"
     ]
    },
    {
     "data": {
      "text/plain": [
       "True"
      ]
     },
     "execution_count": 23,
     "metadata": {},
     "output_type": "execute_result"
    }
   ],
   "source": [
    "def check(a,b,c):\n",
    "    num=0\n",
    "    for i in range(b):\n",
    "        num+=a\n",
    "    if num%c==0:\n",
    "        return True\n",
    "    else:\n",
    "        return False\n",
    "    \n",
    "a=int(input(\"enter num1: \"))\n",
    "b=int(input(\"enter num2: \"))\n",
    "c=int(input(\"enter num3: \"))\n",
    "check(a,b,c)"
   ]
  },
  {
   "cell_type": "markdown",
   "id": "483675ce",
   "metadata": {},
   "source": [
    "### 13) Create a function that changes specific words into emoticons. Given a sentence as a string, replace the words smile, grin, sad and mad with their corresponding emoticons.\n",
    "\n",
    "### word emoticon\n",
    "### smile :D\n",
    "### grin   :)\n",
    "### sad    :(\n",
    "### mad  :P"
   ]
  },
  {
   "cell_type": "code",
   "execution_count": 26,
   "id": "1a79b604",
   "metadata": {},
   "outputs": [
    {
     "name": "stdout",
     "output_type": "stream",
     "text": [
      "enter the string: I am very sad today\n"
     ]
    },
    {
     "data": {
      "text/plain": [
       "'I am very :( today'"
      ]
     },
     "execution_count": 26,
     "metadata": {},
     "output_type": "execute_result"
    }
   ],
   "source": [
    "def emotion(string):\n",
    "    if \"smile\" in string:\n",
    "        string=string.replace(\"smile\",\":D\")\n",
    "    elif \"grin\" in string:\n",
    "        string=string.replace(\"grin\",\":)\")\n",
    "    elif \"sad\" in string:\n",
    "        string=string.replace(\"sad\",\":(\")\n",
    "    elif \"mad\" in string:\n",
    "        string=string.replace(\"mad\",\":P\")\n",
    "    return string\n",
    "\n",
    "string=input(\"enter the string: \")\n",
    "emotion(string)"
   ]
  },
  {
   "cell_type": "markdown",
   "id": "0e3334c4",
   "metadata": {},
   "source": [
    "### 14) Write a Python program to square and cube every number in a given list of integers using Lambda"
   ]
  },
  {
   "cell_type": "code",
   "execution_count": 31,
   "id": "acb080b9",
   "metadata": {},
   "outputs": [
    {
     "name": "stdout",
     "output_type": "stream",
     "text": [
      "no of elements in list: 5\n",
      "enter the element: 12\n",
      "enter the element: 15\n",
      "enter the element: 22\n",
      "enter the element: 25\n",
      "enter the element: 44\n",
      "\n",
      "list of integers: [12, 15, 22, 25, 44]\n",
      "squares: [144, 225, 484, 625, 1936]\n",
      "cubes: [1728, 3375, 10648, 15625, 85184]\n"
     ]
    }
   ],
   "source": [
    "def square_cube():\n",
    "    l=[]\n",
    "    n=int(input(\"no of elements in list: \"))\n",
    "    for i in range(n):\n",
    "        k=int(input(\"enter the element: \"))\n",
    "        l.append(k)\n",
    "    print(\"\")\n",
    "    print(\"list of integers:\",l)\n",
    "    square=list(map(lambda x:x**2,l))\n",
    "    cube=list(map(lambda x:x**3,l))\n",
    "    print(\"squares:\",square)\n",
    "    print(\"cubes:\",cube)\n",
    "square_cube()"
   ]
  },
  {
   "cell_type": "markdown",
   "id": "5b4f4f45",
   "metadata": {},
   "source": [
    "### 15)Write a Python program to check whether a given string is number or not using Lambda"
   ]
  },
  {
   "cell_type": "code",
   "execution_count": 42,
   "id": "c0b50c26",
   "metadata": {},
   "outputs": [
    {
     "name": "stdout",
     "output_type": "stream",
     "text": [
      "enter the string: 1234\n"
     ]
    },
    {
     "data": {
      "text/plain": [
       "True"
      ]
     },
     "execution_count": 42,
     "metadata": {},
     "output_type": "execute_result"
    }
   ],
   "source": [
    "def check_str(string):\n",
    "    k=lambda x:x.isdigit()\n",
    "    return k(string)\n",
    "string=input(\"enter the string: \")\n",
    "check_str(string)"
   ]
  },
  {
   "cell_type": "code",
   "execution_count": null,
   "id": "9dd71132",
   "metadata": {},
   "outputs": [],
   "source": []
  }
 ],
 "metadata": {
  "kernelspec": {
   "display_name": "Python 3 (ipykernel)",
   "language": "python",
   "name": "python3"
  },
  "language_info": {
   "codemirror_mode": {
    "name": "ipython",
    "version": 3
   },
   "file_extension": ".py",
   "mimetype": "text/x-python",
   "name": "python",
   "nbconvert_exporter": "python",
   "pygments_lexer": "ipython3",
   "version": "3.11.3"
  }
 },
 "nbformat": 4,
 "nbformat_minor": 5
}
