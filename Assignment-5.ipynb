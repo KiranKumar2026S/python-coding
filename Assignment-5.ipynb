{
 "cells": [
  {
   "cell_type": "markdown",
   "id": "b4174216",
   "metadata": {},
   "source": [
    "### 1. Given a list of numbers, write a python program that returns a new list which Has all duplicate elements removed. And is sorted in an increasing order."
   ]
  },
  {
   "cell_type": "code",
   "execution_count": 1,
   "id": "9ae3a596",
   "metadata": {},
   "outputs": [
    {
     "name": "stdout",
     "output_type": "stream",
     "text": [
      "enter the list: 2 5 2 6 7 1 5 3 9 6 8 4\n",
      "\n",
      "the sorted list: ['1', '2', '3', '4', '5', '6', '7', '8', '9']\n"
     ]
    }
   ],
   "source": [
    "list1=input(\"enter the list: \").split()\n",
    "set1=set()\n",
    "for x in list1:\n",
    "    set1.add(x)\n",
    "\n",
    "unique_list=list(set1)\n",
    "unique_list.sort()\n",
    "\n",
    "print(\"\")\n",
    "print(\"the sorted list:\",unique_list)"
   ]
  },
  {
   "cell_type": "markdown",
   "id": "d5bda833",
   "metadata": {},
   "source": [
    "### 2. Write a Python program where you will iterate over both keys and values in dictionaries"
   ]
  },
  {
   "cell_type": "code",
   "execution_count": 14,
   "id": "c29a29e9",
   "metadata": {},
   "outputs": [
    {
     "name": "stdout",
     "output_type": "stream",
     "text": [
      "no of elements: 5\n",
      "enter the list: 1 lakshman\n",
      "enter the list: 2 surya\n",
      "enter the list: 3 kirankumar\n",
      "enter the list: 4 swethasri\n",
      "enter the list: 5 venkat\n",
      "('1', 'lakshman')\n",
      "('2', 'surya')\n",
      "('3', 'kirankumar')\n",
      "('4', 'swethasri')\n",
      "('5', 'venkat')\n"
     ]
    }
   ],
   "source": [
    "dictionary={}\n",
    "n=int(input(\"no of elements: \"))\n",
    "for i in range(n):\n",
    "    key,value=(input(\"enter the list: \").split())\n",
    "    dictionary[key]=value\n",
    "for i in dictionary.items():\n",
    "    print(i)"
   ]
  },
  {
   "cell_type": "markdown",
   "id": "15ec3067",
   "metadata": {},
   "source": [
    "### 3. Write a Python program that takes a dictionary of student names and returns a list of student names in alphabetical order"
   ]
  },
  {
   "cell_type": "code",
   "execution_count": 13,
   "id": "f37dc139",
   "metadata": {},
   "outputs": [
    {
     "name": "stdout",
     "output_type": "stream",
     "text": [
      "no of elements: 4\n",
      "enter the list: 1 Surya\n",
      "enter the list: 2 Lakshman\n",
      "enter the list: 3 KiranKumar\n",
      "enter the list: 4 SwethaSri\n",
      "{'1': 'Surya', '2': 'Lakshman', '3': 'KiranKumar', '4': 'SwethaSri'}\n",
      "\n",
      "new list is: ['KiranKumar', 'Lakshman', 'Surya', 'SwethaSri']\n"
     ]
    }
   ],
   "source": [
    "dictionary={}\n",
    "n=int(input(\"no of elements: \"))\n",
    "for i in range(n):\n",
    "    key,values=(input(\"enter the list: \").split())\n",
    "    dictionary[key]=values\n",
    "print(dictionary)\n",
    "\n",
    "list1=[]\n",
    "for i in dictionary.values():\n",
    "    list1.append(i)\n",
    "    list1.sort()\n",
    "print(\"\")\n",
    "print(\"new list is:\",list1)"
   ]
  },
  {
   "cell_type": "markdown",
   "id": "f51bef96",
   "metadata": {},
   "source": [
    "### 4. Write a Python which returns a new list of Booleans, from a given number. Iterating through the number one digit at a time, append True if the digit is 1 and False if it is 0."
   ]
  },
  {
   "cell_type": "code",
   "execution_count": 12,
   "id": "e2d4b6be",
   "metadata": {},
   "outputs": [
    {
     "name": "stdout",
     "output_type": "stream",
     "text": [
      "enter the number: 10100\n",
      "\n",
      "new list is: [True, False, True, False, False]\n"
     ]
    }
   ],
   "source": [
    "list1=[]\n",
    "n=input(\"enter the number: \")\n",
    "for i in n:\n",
    "    i=int(i)\n",
    "    if i==1:\n",
    "        list1.append(True)\n",
    "    elif i==0:\n",
    "        list1.append(False)\n",
    "print(\"\")\n",
    "print(\"new list is:\",list1)"
   ]
  },
  {
   "cell_type": "markdown",
   "id": "4d9b9580",
   "metadata": {},
   "source": [
    "### 5. Write a Python program where you will return a dictionary where the keys will be the character and the values will be the occurrence of the character in the string, and it should for any string inputs (dynamic)."
   ]
  },
  {
   "cell_type": "code",
   "execution_count": 23,
   "id": "671f3c16",
   "metadata": {},
   "outputs": [
    {
     "name": "stdout",
     "output_type": "stream",
     "text": [
      "enter the string: kirankumar\n",
      "{'k': 2, 'i': 1, 'r': 2, 'a': 2, 'n': 1, 'u': 1, 'm': 1}\n"
     ]
    }
   ],
   "source": [
    "d={}\n",
    "n=input(\"enter the string: \")\n",
    "for i in n:\n",
    "    if i not in d:\n",
    "        d[i]=1\n",
    "    else:\n",
    "        d[i]=d[i]+1\n",
    "print(d)"
   ]
  },
  {
   "cell_type": "markdown",
   "id": "61a1e3a0",
   "metadata": {},
   "source": [
    "### 6. Given a dictionary containing the names and ages of a group of people, return the name of the oldest person"
   ]
  },
  {
   "cell_type": "code",
   "execution_count": 18,
   "id": "e131bdc3",
   "metadata": {},
   "outputs": [
    {
     "name": "stdout",
     "output_type": "stream",
     "text": [
      "no of elements: 4 \n",
      "enter the list: person1 23\n",
      "enter the list: person2 28\n",
      "enter the list: person3 19\n",
      "enter the list: person4 25\n",
      "{'person1': '23', 'person2': '28', 'person3': '19', 'person4': '25'}\n",
      "\n",
      "the oldest person is: person2\n"
     ]
    }
   ],
   "source": [
    "dictionary={}\n",
    "n=int(input(\"no of elements: \"))\n",
    "for i in range(n):\n",
    "    key,values=(input(\"enter the list: \").split())\n",
    "    dictionary[key]=values\n",
    "print(dictionary)\n",
    "print(\"\")\n",
    "\n",
    "oldest_person=max(dictionary.values())\n",
    "for name,age in dictionary.items():\n",
    "    if age==oldest_person:\n",
    "        print(\"the oldest person is:\",name)"
   ]
  },
  {
   "cell_type": "markdown",
   "id": "18b6611e",
   "metadata": {},
   "source": [
    "### 7. Write a Python program to create a Rock, Paper, Scissor game, use two inputs for two players : Conditions: -Rock beats Scissors, Scissors beats Paper, Paper beats Rock"
   ]
  },
  {
   "cell_type": "code",
   "execution_count": 2,
   "id": "31255707",
   "metadata": {},
   "outputs": [
    {
     "name": "stdout",
     "output_type": "stream",
     "text": [
      "enter Rock OR Paper OR Scissors: scissors\n",
      "enter Rock OR Paper OR Scissors: rock\n",
      "player2 wins\n"
     ]
    }
   ],
   "source": [
    "player1=input(\"enter Rock OR Paper OR Scissors: \")\n",
    "player2=input(\"enter Rock OR Paper OR Scissors: \")\n",
    "if((player1==\"rock\") and (player2==\"scissors\")) or (player1==\"scissors\") and (player2==\"paper\") or (player1==\"paper\") and (player2==\"rock\"):\n",
    "    print(\"player1 wins\")\n",
    "elif((player1==\"scissors\") and (player2==\"rock\")) or (player1==\"paper\") and (player2==\"scissors\") or (player1==\"rock\") and (player2==\"paper\"):\n",
    "    print(\"player2 wins\")\n",
    "else:\n",
    "    print(\"both are same, play again\")"
   ]
  },
  {
   "cell_type": "markdown",
   "id": "7c1dd77c",
   "metadata": {},
   "source": [
    "### 8. Create a program that returns a list of items that you can afford in the store with the money you have in your wallet. Create a dictionary with items as key and price as values"
   ]
  },
  {
   "cell_type": "code",
   "execution_count": 1,
   "id": "96683e44",
   "metadata": {},
   "outputs": [
    {
     "name": "stdout",
     "output_type": "stream",
     "text": [
      "no of elements: 5\n",
      "enter the list: soap 40\n",
      "enter the list: oil 120\n",
      "enter the list: paste 90\n",
      "enter the list: snacks 50\n",
      "enter the list: tea_powder 50\n",
      "{'soap': 40, 'oil': 120, 'paste': 90, 'snacks': 50, 'tea_powder': 50}\n",
      "\n",
      "enter the wallet balance: 50\n",
      "\n",
      "items that you can afford: ['soap', 'snacks', 'tea_powder']\n"
     ]
    }
   ],
   "source": [
    "dictionary={}\n",
    "n=int(input(\"no of elements: \"))\n",
    "for i in range(n):\n",
    "    key,values=(input(\"enter the list: \").split())\n",
    "    dictionary[key]=int(values)\n",
    "print(dictionary)\n",
    "print(\"\")\n",
    "\n",
    "list1=[]\n",
    "wallet_money=int(input(\"enter the wallet balance: \"))\n",
    "for name,price in dictionary.items():\n",
    "    if (price<=wallet_money):\n",
    "        list1.append(name)\n",
    "print(\"\")    \n",
    "\n",
    "print(\"items that you can afford:\",list1)"
   ]
  },
  {
   "cell_type": "markdown",
   "id": "f1b53840",
   "metadata": {},
   "source": [
    "### 9. Write a Python program to create a union of sets"
   ]
  },
  {
   "cell_type": "code",
   "execution_count": 6,
   "id": "9e62233a",
   "metadata": {},
   "outputs": [
    {
     "name": "stdout",
     "output_type": "stream",
     "text": [
      "enter set1: 23 abc 2.4 2+3j\n",
      "enter set2: 12 ab k s \n"
     ]
    },
    {
     "data": {
      "text/plain": [
       "{'12', '2+3j', '2.4', '23', 'ab', 'abc', 'k', 's'}"
      ]
     },
     "execution_count": 6,
     "metadata": {},
     "output_type": "execute_result"
    }
   ],
   "source": [
    "s1=set(input(\"enter set1: \").split())\n",
    "s2=set(input(\"enter set2: \").split())\n",
    "s1.union(s2)"
   ]
  },
  {
   "cell_type": "markdown",
   "id": "ea8154fc",
   "metadata": {},
   "source": [
    "### 10. Write a Python program to check if a given value is present in a set or not (Dynamic)"
   ]
  },
  {
   "cell_type": "code",
   "execution_count": 17,
   "id": "14fcbba2",
   "metadata": {},
   "outputs": [
    {
     "name": "stdout",
     "output_type": "stream",
     "text": [
      "enter set1: 1 2 3 4 5\n",
      "{'3', '4', '5', '1', '2'}\n",
      "enter the number to check: 9\n",
      "\n",
      "given value is not present in the set\n"
     ]
    }
   ],
   "source": [
    "s1=set(input(\"enter set1: \").split())\n",
    "print(s1)\n",
    "k=input(\"enter the number to check: \")\n",
    "print(\"\")\n",
    "if k in s1:\n",
    "    print(\"given value is present in the set\")\n",
    "else:\n",
    "    print(\"given value is not present in the set\")"
   ]
  },
  {
   "cell_type": "markdown",
   "id": "5df8b06d",
   "metadata": {},
   "source": [
    "### 11. Write a Python program to find the occurrences of 3 most common words in a given text. And make it as a dictionaries"
   ]
  },
  {
   "cell_type": "code",
   "execution_count": null,
   "id": "2d968323",
   "metadata": {},
   "outputs": [],
   "source": []
  },
  {
   "cell_type": "markdown",
   "id": "a17a6e5f",
   "metadata": {},
   "source": [
    "### 12. Write a Python program that accepts name of given subject and mark, and make subjects as keys in dictionaries and marks as values and print the final dictionary with subjects and marks"
   ]
  },
  {
   "cell_type": "code",
   "execution_count": 3,
   "id": "c0965d2e",
   "metadata": {},
   "outputs": [
    {
     "name": "stdout",
     "output_type": "stream",
     "text": [
      "no of Subjects: 5\n",
      "enter the Subject: maths\n",
      "enter the Marks: 84\n",
      "enter the Subject: english\n",
      "enter the Marks: 78\n",
      "enter the Subject: social\n",
      "enter the Marks: 72\n",
      "enter the Subject: telugu\n",
      "enter the Marks: 89\n",
      "enter the Subject: science\n",
      "enter the Marks: 77\n",
      "{'maths': 84, 'english': 78, 'social': 72, 'telugu': 89, 'science': 77}\n"
     ]
    }
   ],
   "source": [
    "dictionary={}\n",
    "n=int(input(\"no of Subjects: \"))\n",
    "for i in range(n):\n",
    "    key=input(\"enter the Subject: \")\n",
    "    values=int(input(\"enter the Marks: \"))\n",
    "    dictionary[key]=values\n",
    "print(dictionary)"
   ]
  }
 ],
 "metadata": {
  "kernelspec": {
   "display_name": "Python 3 (ipykernel)",
   "language": "python",
   "name": "python3"
  },
  "language_info": {
   "codemirror_mode": {
    "name": "ipython",
    "version": 3
   },
   "file_extension": ".py",
   "mimetype": "text/x-python",
   "name": "python",
   "nbconvert_exporter": "python",
   "pygments_lexer": "ipython3",
   "version": "3.11.3"
  }
 },
 "nbformat": 4,
 "nbformat_minor": 5
}
