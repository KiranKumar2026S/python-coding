{
 "cells": [
  {
   "cell_type": "code",
   "execution_count": 1,
   "id": "886c4626",
   "metadata": {},
   "outputs": [],
   "source": [
    "#1.Write a python program to convert a string to lower case"
   ]
  },
  {
   "cell_type": "code",
   "execution_count": 2,
   "id": "5a61d260",
   "metadata": {},
   "outputs": [
    {
     "data": {
      "text/plain": [
       "'kirankumar'"
      ]
     },
     "execution_count": 2,
     "metadata": {},
     "output_type": "execute_result"
    }
   ],
   "source": [
    "x=\"KiraNKumaR\"\n",
    "x.lower()"
   ]
  },
  {
   "cell_type": "code",
   "execution_count": null,
   "id": "26f85e41",
   "metadata": {},
   "outputs": [],
   "source": [
    "#2.Write a python program to convert only odd indexed characters to lower case"
   ]
  },
  {
   "cell_type": "code",
   "execution_count": 4,
   "id": "48525586",
   "metadata": {},
   "outputs": [
    {
     "data": {
      "text/plain": [
       "'PyThOn'"
      ]
     },
     "execution_count": 4,
     "metadata": {},
     "output_type": "execute_result"
    }
   ],
   "source": [
    "var=\"PYTHON\"\n",
    "var[0]+var[1].lower()+var[2]+var[3].lower()+var[4]+var[5].lower()"
   ]
  },
  {
   "cell_type": "code",
   "execution_count": 5,
   "id": "fb9c2eeb",
   "metadata": {},
   "outputs": [],
   "source": [
    "#3.Write a python program to convert only even indexed characters to lower case"
   ]
  },
  {
   "cell_type": "code",
   "execution_count": 7,
   "id": "04320592",
   "metadata": {},
   "outputs": [
    {
     "data": {
      "text/plain": [
       "'pYtHoN'"
      ]
     },
     "execution_count": 7,
     "metadata": {},
     "output_type": "execute_result"
    }
   ],
   "source": [
    "y=\"PYTHON\"\n",
    "y[0].lower()+y[1]+y[2].lower()+y[3]+y[4].lower()+y[5]"
   ]
  },
  {
   "cell_type": "code",
   "execution_count": 8,
   "id": "1a7a10db",
   "metadata": {},
   "outputs": [],
   "source": [
    "#4.Write a python program to convert only odd indexed characters to upper case"
   ]
  },
  {
   "cell_type": "code",
   "execution_count": 11,
   "id": "844df910",
   "metadata": {},
   "outputs": [
    {
     "data": {
      "text/plain": [
       "'pYtHoN'"
      ]
     },
     "execution_count": 11,
     "metadata": {},
     "output_type": "execute_result"
    }
   ],
   "source": [
    "x=\"python\"\n",
    "x[0]+x[1].upper()+x[2]+x[3].upper()+x[4]+x[5].upper()"
   ]
  },
  {
   "cell_type": "code",
   "execution_count": 12,
   "id": "bdc61a66",
   "metadata": {},
   "outputs": [],
   "source": [
    "#5.Write a python program to convert only even indexed characters to upper case"
   ]
  },
  {
   "cell_type": "code",
   "execution_count": 15,
   "id": "7969647a",
   "metadata": {},
   "outputs": [
    {
     "data": {
      "text/plain": [
       "'PyThOn'"
      ]
     },
     "execution_count": 15,
     "metadata": {},
     "output_type": "execute_result"
    }
   ],
   "source": [
    "n=\"python\"\n",
    "n[0].upper()+n[1]+n[2].upper()+n[3]+n[4].upper()+n[5]"
   ]
  },
  {
   "cell_type": "code",
   "execution_count": 16,
   "id": "4d14265e",
   "metadata": {},
   "outputs": [],
   "source": [
    "#6.Write a python program where you have different variable which contains your name ,sex,age, phone no ,fathers name and mothers name.Avariable named bio-data where you will use and by using this variable create a variable named bio-data where you will use all thus variable"
   ]
  },
  {
   "cell_type": "code",
   "execution_count": 23,
   "id": "fa193442",
   "metadata": {},
   "outputs": [
    {
     "data": {
      "text/plain": [
       "'my name is Kiran, my sex is male, my age is 22, my phone no is 7093837759, my fathers name is raju, my mothers name is lakshmi'"
      ]
     },
     "execution_count": 23,
     "metadata": {},
     "output_type": "execute_result"
    }
   ],
   "source": [
    "name=\"Kiran\"\n",
    "sex=\"male\"\n",
    "age=\"22\"\n",
    "phoneno=\"7093837759\"\n",
    "fathersname=\"raju\"\n",
    "mothersname=\"lakshmi\"\n",
    "\n",
    "\"my name is {}, my sex is {}, my age is {}, my phone no is {}, my fathers name is {}, my mothers name is {}\".format(name,sex,age,phoneno,fathersname,mothersname)"
   ]
  },
  {
   "cell_type": "code",
   "execution_count": 24,
   "id": "e785b4a8",
   "metadata": {},
   "outputs": [],
   "source": [
    "#7.Write a python program to count how many times “@” occurred"
   ]
  },
  {
   "cell_type": "code",
   "execution_count": 26,
   "id": "6707255a",
   "metadata": {},
   "outputs": [
    {
     "data": {
      "text/plain": [
       "4"
      ]
     },
     "execution_count": 26,
     "metadata": {},
     "output_type": "execute_result"
    }
   ],
   "source": [
    "x=\"python@is@a@programming@language\"\n",
    "x.count(\"@\")"
   ]
  },
  {
   "cell_type": "code",
   "execution_count": 27,
   "id": "56babe12",
   "metadata": {},
   "outputs": [],
   "source": [
    "#8.Write a python program to get only names from the string “name1.@gmail.com,name2.@gmail.com,name 3.@gmail.com” Output-name1,name2,name3"
   ]
  },
  {
   "cell_type": "code",
   "execution_count": 48,
   "id": "35002fa0",
   "metadata": {},
   "outputs": [
    {
     "data": {
      "text/plain": [
       "('name1', 'name2', 'name3')"
      ]
     },
     "execution_count": 48,
     "metadata": {},
     "output_type": "execute_result"
    }
   ],
   "source": [
    "var=\"name1.@gmail.com,name2.@gmail.com,name3.@gmail.com\"\n",
    "var[0:5],var[17:22],var[34:39]"
   ]
  },
  {
   "cell_type": "code",
   "execution_count": null,
   "id": "292d5e26",
   "metadata": {},
   "outputs": [],
   "source": [
    "#9.Given a string of odd length greater that 9, return a new string made of the middle three characters of a given String"
   ]
  },
  {
   "cell_type": "code",
   "execution_count": 55,
   "id": "d093bd56",
   "metadata": {},
   "outputs": [
    {
     "data": {
      "text/plain": [
       "'mei'"
      ]
     },
     "execution_count": 55,
     "metadata": {},
     "output_type": "execute_result"
    }
   ],
   "source": [
    "k=\"mynameissan\"\n",
    "k[4:7]"
   ]
  },
  {
   "cell_type": "code",
   "execution_count": 57,
   "id": "3c624d94",
   "metadata": {},
   "outputs": [],
   "source": [
    "#10.Write a python program to insert a 2 string in the middle of 1 string"
   ]
  },
  {
   "cell_type": "code",
   "execution_count": 2,
   "id": "2de33ef6",
   "metadata": {},
   "outputs": [
    {
     "data": {
      "text/plain": [
       "'msayn'"
      ]
     },
     "execution_count": 2,
     "metadata": {},
     "output_type": "execute_result"
    }
   ],
   "source": [
    "Str1=\"myn\"\n",
    "Str2=\"sa\"\n",
    "x=len(Str1)//2\n",
    "result=Str1[:x]+Str2+Str1[x:]\n",
    "result"
   ]
  },
  {
   "cell_type": "code",
   "execution_count": 3,
   "id": "f51796e7",
   "metadata": {},
   "outputs": [],
   "source": [
    "#11.Write a program to remove vowels from the entire alphabets"
   ]
  },
  {
   "cell_type": "code",
   "execution_count": 12,
   "id": "bd3bc0d3",
   "metadata": {},
   "outputs": [
    {
     "data": {
      "text/plain": [
       "'bcdfghjklmnpqrstvwxyz'"
      ]
     },
     "execution_count": 12,
     "metadata": {},
     "output_type": "execute_result"
    }
   ],
   "source": [
    "k=\"abcdefghijklmnopqrstuvwxyz\"\n",
    "k.replace(\"a\",\"\").replace(\"e\",\"\").replace(\"i\",\"\").replace(\"o\",\"\").replace(\"u\",\"\")"
   ]
  }
 ],
 "metadata": {
  "kernelspec": {
   "display_name": "Python 3 (ipykernel)",
   "language": "python",
   "name": "python3"
  },
  "language_info": {
   "codemirror_mode": {
    "name": "ipython",
    "version": 3
   },
   "file_extension": ".py",
   "mimetype": "text/x-python",
   "name": "python",
   "nbconvert_exporter": "python",
   "pygments_lexer": "ipython3",
   "version": "3.11.3"
  }
 },
 "nbformat": 4,
 "nbformat_minor": 5
}
