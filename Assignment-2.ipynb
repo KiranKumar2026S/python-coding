{
 "cells": [
  {
   "cell_type": "markdown",
   "id": "a4410c1d",
   "metadata": {},
   "source": [
    "### 1) Write a program to accept two numbers from the user and calculate multiplication, division"
   ]
  },
  {
   "cell_type": "code",
   "execution_count": 1,
   "id": "c814e0ee",
   "metadata": {},
   "outputs": [
    {
     "name": "stdout",
     "output_type": "stream",
     "text": [
      "enter the first number: 26\n",
      "enter the second number: 44\n",
      "26*44= 1144\n",
      "26/44= 0.5909090909090909\n"
     ]
    }
   ],
   "source": [
    "num1=int(input(\"enter the first number: \"))\n",
    "num2=int(input(\"enter the second number: \"))\n",
    "if 3>1:\n",
    "    print(\"{}*{}= {}\".format(num1,num2,num1*num2))\n",
    "    print(\"{}/{}= {}\".format(num1,num2,num1/num2))"
   ]
  },
  {
   "cell_type": "markdown",
   "id": "d05a8776",
   "metadata": {},
   "source": [
    "### 2) Write a python program to print the characters from a string that are present at an even index"
   ]
  },
  {
   "cell_type": "code",
   "execution_count": 4,
   "id": "d7d4e88d",
   "metadata": {},
   "outputs": [
    {
     "name": "stdout",
     "output_type": "stream",
     "text": [
      "enter the string: python\n",
      "p t o "
     ]
    }
   ],
   "source": [
    "string=input(\"enter the string: \")\n",
    "for y in string:\n",
    "    if string.index(y)%2==0:\n",
    "        print(y,end=\" \")"
   ]
  },
  {
   "cell_type": "markdown",
   "id": "036f75ed",
   "metadata": {},
   "source": [
    "### 3) Write a python program to print the characters from a string that are present at an odd index"
   ]
  },
  {
   "cell_type": "code",
   "execution_count": 6,
   "id": "c203850a",
   "metadata": {},
   "outputs": [
    {
     "name": "stdout",
     "output_type": "stream",
     "text": [
      "enter the string: programming\n",
      "r g r a n g "
     ]
    }
   ],
   "source": [
    "string=input(\"enter the string: \")\n",
    "for y in string:\n",
    "    if string.index(y)%2!=0:\n",
    "        print(y,end=\" \")"
   ]
  },
  {
   "cell_type": "markdown",
   "id": "72e4ef02",
   "metadata": {},
   "source": [
    "### 4) Write a python program which will print the sum of the two numbers if the two numbers are even or it will print the difference of two numbers"
   ]
  },
  {
   "cell_type": "code",
   "execution_count": 9,
   "id": "bd8f4ec1",
   "metadata": {},
   "outputs": [
    {
     "name": "stdout",
     "output_type": "stream",
     "text": [
      "enter the first number: 22\n",
      "enter the second number: 17\n",
      "22-17=5\n"
     ]
    }
   ],
   "source": [
    "num1=int(input(\"enter the first number: \"))\n",
    "num2=int(input(\"enter the second number: \"))\n",
    "if num1%2==0 and num2%2==0:\n",
    "    print(\"{}+{}={}\".format(num1,num2,num1+num2))\n",
    "else:\n",
    "    print(\"{}-{}={}\".format(num1,num2,num1-num2))"
   ]
  },
  {
   "cell_type": "markdown",
   "id": "6f44be3b",
   "metadata": {},
   "source": [
    "### 5) Write a python program to convert all even indexed alphabets to upper and odd indexed char to lower"
   ]
  },
  {
   "cell_type": "code",
   "execution_count": 24,
   "id": "4a46d56d",
   "metadata": {},
   "outputs": [
    {
     "name": "stdout",
     "output_type": "stream",
     "text": [
      "enter the string: kirankumar\n",
      "KiRaNkUmAr"
     ]
    }
   ],
   "source": [
    "string=input(\"enter the string: \")\n",
    "for y in range(len(string)):\n",
    "    if y%2==0:\n",
    "        y=string[y].upper()\n",
    "        print(y,end=\"\")\n",
    "    else:\n",
    "        y=string[y].lower()\n",
    "        print(y,end=\"\")"
   ]
  },
  {
   "cell_type": "markdown",
   "id": "8b03173c",
   "metadata": {},
   "source": [
    "### 6) Write a python program which will print True if the input number is divisible by 5 or else False"
   ]
  },
  {
   "cell_type": "code",
   "execution_count": 15,
   "id": "5e8f887e",
   "metadata": {},
   "outputs": [
    {
     "name": "stdout",
     "output_type": "stream",
     "text": [
      "enter the number: 23\n",
      "False\n"
     ]
    }
   ],
   "source": [
    "num=int(input(\"enter the number: \"))\n",
    "if num%5==0:\n",
    "    print(\"True\")\n",
    "else:\n",
    "    print(\"False\")"
   ]
  },
  {
   "cell_type": "markdown",
   "id": "7ea8a32f",
   "metadata": {},
   "source": [
    "### 7) Given two integer numbers return their product only if the product is greater than 1000, else return their sum"
   ]
  },
  {
   "cell_type": "code",
   "execution_count": 19,
   "id": "614642bd",
   "metadata": {},
   "outputs": [
    {
     "name": "stdout",
     "output_type": "stream",
     "text": [
      "enter the first number: 35\n",
      "enter the second number: 45\n",
      "35*45=1575\n"
     ]
    }
   ],
   "source": [
    "num1=int(input(\"enter the first number: \"))\n",
    "num2=int(input(\"enter the second number: \"))\n",
    "if (num1*num2)>1000:\n",
    "    print(\"{}*{}={}\".format(num1,num2,num1*num2))\n",
    "else:\n",
    "    print(\"{}+{}={}\".format(num1,num2,num1+num2))"
   ]
  },
  {
   "cell_type": "markdown",
   "id": "97d0736e",
   "metadata": {},
   "source": [
    "### 8) Given two strings x, y writes a program to return a new string made of x and y’s first, middle, and last characters"
   ]
  },
  {
   "cell_type": "code",
   "execution_count": 8,
   "id": "026801ae",
   "metadata": {},
   "outputs": [
    {
     "name": "stdout",
     "output_type": "stream",
     "text": [
      "enter the first string: kirankumar\n",
      "enter the second string: swethasri\n"
     ]
    },
    {
     "data": {
      "text/plain": [
       "'kskhri'"
      ]
     },
     "execution_count": 8,
     "metadata": {},
     "output_type": "execute_result"
    }
   ],
   "source": [
    "str1=input(\"enter the first string: \")\n",
    "str2=input(\"enter the second string: \")\n",
    "mid1=str1[len(str1)//2]\n",
    "mid2=str2[len(str2)//2]\n",
    "new_string=str1[0]+str2[0]+mid1+mid2+str1[-1]+str2[-1]\n",
    "new_string"
   ]
  },
  {
   "cell_type": "markdown",
   "id": "26c2e8f0",
   "metadata": {},
   "source": [
    "### 9) Write a python program to take three names as input from a user in the single input () function call"
   ]
  },
  {
   "cell_type": "code",
   "execution_count": 7,
   "id": "617bd423",
   "metadata": {},
   "outputs": [
    {
     "name": "stdout",
     "output_type": "stream",
     "text": [
      "enter the three names: person1 person2 person3\n",
      "Name1:- person1\n",
      "Name2:- person2\n",
      "Name3:- person3\n"
     ]
    }
   ],
   "source": [
    "x,y,z=input(\"enter the three names: \").split()\n",
    "print(\"Name1:-\",x)\n",
    "print(\"Name2:-\",y)\n",
    "print(\"Name3:-\",z)"
   ]
  },
  {
   "cell_type": "markdown",
   "id": "c18ce375",
   "metadata": {},
   "source": [
    "### 10) Write a Python program to get a string from a given string where all occurrences of its first char have been changed to '@', except the first char itself. "
   ]
  },
  {
   "cell_type": "code",
   "execution_count": 17,
   "id": "4715c667",
   "metadata": {},
   "outputs": [
    {
     "name": "stdout",
     "output_type": "stream",
     "text": [
      "enter the string: malayalam\n",
      "malayala@\n",
      " \n",
      "enter the string: abcabab\n",
      "abc@b@b\n",
      " \n"
     ]
    }
   ],
   "source": [
    "x=1\n",
    "while x<=2:\n",
    "    string=input(\"enter the string: \")\n",
    "    y=string[0]\n",
    "    z=string.replace(y,\"@\")\n",
    "    z=z[1:]\n",
    "    new_string=y+z\n",
    "    print(new_string)\n",
    "    print(\" \")\n",
    "    x=x+1"
   ]
  },
  {
   "cell_type": "markdown",
   "id": "8352a840",
   "metadata": {},
   "source": [
    "### 11) Write a Python program to add 'ing' at the end of a given string (string length should be equal to or more than 3). If the given string already ends with 'ing' then add 'ly' instead. If the string length of the given string is less than 3, leave it unchanged"
   ]
  },
  {
   "cell_type": "code",
   "execution_count": 1,
   "id": "9664bb15",
   "metadata": {},
   "outputs": [
    {
     "name": "stdout",
     "output_type": "stream",
     "text": [
      "enter the string: playing\n",
      "playly\n",
      " \n"
     ]
    }
   ],
   "source": [
    "string=input(\"enter the string: \")\n",
    "while len(string)>=3:\n",
    "    if string[-3:]!=\"ing\":\n",
    "        new_string=string+\"ing\"\n",
    "        print(new_string)\n",
    "        break\n",
    "        print(\" \")\n",
    "    elif string[-3:]==\"ing\":\n",
    "        new_string=string[0:-3]+\"ly\"\n",
    "        print(new_string)\n",
    "        print(\" \")\n",
    "        break\n",
    "else:\n",
    "    print(string)"
   ]
  },
  {
   "cell_type": "markdown",
   "id": "186f0346",
   "metadata": {},
   "source": [
    "### 12) Write a python program that accepts two inputs num1 and num2 print True if one of them is 10 or if their sum is 10 otherwise print False"
   ]
  },
  {
   "cell_type": "code",
   "execution_count": 5,
   "id": "9b89d914",
   "metadata": {},
   "outputs": [
    {
     "name": "stdout",
     "output_type": "stream",
     "text": [
      "enter the first number: 23\n",
      "enter the second number: 43\n",
      "False\n"
     ]
    }
   ],
   "source": [
    "num1=int(input(\"enter the first number: \"))\n",
    "num2=int(input(\"enter the second number: \"))\n",
    "if (num1==10 or num2==10) or num1+num2==10:\n",
    "    print(\"True\")\n",
    "else:\n",
    "    print(\"False\")"
   ]
  },
  {
   "cell_type": "markdown",
   "id": "2719bff4",
   "metadata": {},
   "source": [
    "### 13) Write a python program that accepts three inputs x, y and z print True if x*y>z otherwise False"
   ]
  },
  {
   "cell_type": "code",
   "execution_count": 7,
   "id": "231e3160",
   "metadata": {},
   "outputs": [
    {
     "name": "stdout",
     "output_type": "stream",
     "text": [
      "enter the first number: 23\n",
      "enter the second number: 13\n",
      "enter the third number: 43\n",
      "True\n"
     ]
    }
   ],
   "source": [
    "x=int(input(\"enter the first number: \"))\n",
    "y=int(input(\"enter the second number: \"))\n",
    "z=int(input(\"enter the third number: \"))\n",
    "if x*y>z:\n",
    "    print(\"True\")\n",
    "else:\n",
    "    print(\"False\")"
   ]
  },
  {
   "cell_type": "markdown",
   "id": "027e3484",
   "metadata": {},
   "source": [
    "### 14) Write a python program that accepts two strings inputs return True depending on whether the total number of characters in the first string is equal to the total number of characters in the second string"
   ]
  },
  {
   "cell_type": "code",
   "execution_count": 2,
   "id": "dc3f3c18",
   "metadata": {},
   "outputs": [
    {
     "name": "stdout",
     "output_type": "stream",
     "text": [
      "enter the first string: python\n",
      "enter the second string: string\n",
      "True\n"
     ]
    }
   ],
   "source": [
    "str1=input(\"enter the first string: \")\n",
    "str2=input(\"enter the second string: \")\n",
    "if len(str1)==len(str2):\n",
    "    print(\"True\")\n",
    "else:\n",
    "    print(\"False\")"
   ]
  },
  {
   "cell_type": "markdown",
   "id": "737e8224",
   "metadata": {},
   "source": [
    "### 15) Write a python program that takes a string input, we'll say that the front is the first three characters of the string. If the string length is less than three characters, the front is whatever is there. Return a new string, which is three copies of the front"
   ]
  },
  {
   "cell_type": "code",
   "execution_count": 2,
   "id": "87b4b649",
   "metadata": {},
   "outputs": [
    {
     "name": "stdout",
     "output_type": "stream",
     "text": [
      "enter the string: python\n",
      " \n",
      "a new string:  pyt\n",
      " \n",
      "enter the string: if\n",
      " \n",
      "a new string:  ififif\n",
      " \n"
     ]
    }
   ],
   "source": [
    "x=1\n",
    "while x<=2:\n",
    "    str1=input(\"enter the string: \")\n",
    "    if len(str1)>=3:\n",
    "        front=str1[0:3]\n",
    "    else:\n",
    "        front=str1*3\n",
    "    print(\" \")\n",
    "    print(\"a new string: \",front)\n",
    "    x=x+1\n",
    "    print(\" \")"
   ]
  },
  {
   "cell_type": "markdown",
   "id": "bf54ed05",
   "metadata": {},
   "source": [
    "### 16) Write a python program that takes in a word and determines whether or not it is plural. A plural word is one that ends in \"s\".\n"
   ]
  },
  {
   "cell_type": "code",
   "execution_count": 2,
   "id": "b8fb41b2",
   "metadata": {},
   "outputs": [
    {
     "name": "stdout",
     "output_type": "stream",
     "text": [
      "enter the word: plays\n",
      "it is plural\n"
     ]
    }
   ],
   "source": [
    "word=input(\"enter the word: \")\n",
    "if word.endswith(\"s\"):\n",
    "    print(\"it is plural\")\n",
    "else:\n",
    "    print(\"it is not plural\")"
   ]
  },
  {
   "cell_type": "markdown",
   "id": "02392476",
   "metadata": {},
   "source": [
    "#### 17) A bartender is writing a simple program to determine whether he should serve drinks to someone. He only serves drinks to people 18 and older and when he's not on break (True means break and False means not a break time). Given the person's age, and whether break time is in session, create a python program which prints whether he should serve drinks or not."
   ]
  },
  {
   "cell_type": "code",
   "execution_count": 27,
   "id": "228f2b62",
   "metadata": {},
   "outputs": [
    {
     "name": "stdout",
     "output_type": "stream",
     "text": [
      "enter the age: 17\n",
      "is the bartender not on break (yes or no): yes\n",
      "bartender cannot serve drinks\n"
     ]
    }
   ],
   "source": [
    "age=int(input(\"enter the age: \"))\n",
    "server=input(\"is the bartender not on break (yes or no): \")\n",
    "if age>=18 and server==\"yes\":\n",
    "    print(\"bartender can serve drinks\")\n",
    "else:\n",
    "    print(\"bartender cannot serve drinks\")"
   ]
  },
  {
   "cell_type": "markdown",
   "id": "ea0f8ca0",
   "metadata": {},
   "source": [
    "### 18) Manoj Kumar has family and friends. Help him remind them who is who. Given a string with a name, return the relation of that person to Manoj Kumar."
   ]
  },
  {
   "cell_type": "code",
   "execution_count": 18,
   "id": "e54381c2",
   "metadata": {},
   "outputs": [
    {
     "name": "stdout",
     "output_type": "stream",
     "text": [
      "enter the name: letha\n",
      "letha is mother of manoj\n"
     ]
    }
   ],
   "source": [
    "name=input(\"enter the name: \")\n",
    "person=[\"shiva\",\"letha\",\"tarun\",\"kavitha\"]\n",
    "relation=[\"father\",\"mother\",\"brother\",\"sister\"]\n",
    "for k in range(len(person)):\n",
    "    if name==person[k]:\n",
    "        print(name,\"is\",relation[k],\"of manoj\")"
   ]
  },
  {
   "cell_type": "markdown",
   "id": "0033f8ad",
   "metadata": {},
   "source": [
    "### 19) Write a python program that takes a string, breaks it up and returns it with vowels first, consonants second. For any character that's not a vowel (like special characters or spaces), treat them like consonants\n"
   ]
  },
  {
   "cell_type": "code",
   "execution_count": 4,
   "id": "1043d2f6",
   "metadata": {},
   "outputs": [
    {
     "name": "stdout",
     "output_type": "stream",
     "text": [
      "enter the string: kiran\n",
      "iakrn\n"
     ]
    }
   ],
   "source": [
    "string=input(\"enter the string: \")\n",
    "vowels=[\"a\",\"e\",\"i\",\"o\",\"u\"]\n",
    "_string=[]\n",
    "\n",
    "for i in range(len(string)):\n",
    "    if string[i] in vowels:\n",
    "        _string.append(string[i])\n",
    "        \n",
    "for i in range(len(string)):\n",
    "    if string[i] not in vowels:\n",
    "        _string.append(string[i])\n",
    "        \n",
    "new_string=\"\".join(_string)  \n",
    "print(new_string)"
   ]
  },
  {
   "cell_type": "markdown",
   "id": "19e06147",
   "metadata": {},
   "source": [
    "### 20) Create a dynamic calculator which asks for numbers and operator and return the answers\n"
   ]
  },
  {
   "cell_type": "code",
   "execution_count": 2,
   "id": "665e0ecf",
   "metadata": {},
   "outputs": [
    {
     "name": "stdout",
     "output_type": "stream",
     "text": [
      "type first number: 23\n",
      "enter the symbol + - * % / ** :**\n",
      "type second number: 2\n",
      "23**2=529\n"
     ]
    }
   ],
   "source": [
    "num1=int(input(\"type first number: \"))\n",
    "symbol=input(\"enter the symbol + - * % / ** :\")\n",
    "num2=int(input(\"type second number: \"))\n",
    "\n",
    "if symbol==\"+\":\n",
    "    print(\"{}+{}={}\".format(num1,num2,num1+num2))\n",
    "elif symbol==\"-\":\n",
    "    print(\"{}-{}={}\".format(num1,num2,num1-num2))\n",
    "elif symbol==\"*\":\n",
    "    print(\"{}*{}={}\".format(num1,num2,num1*num2))\n",
    "elif symbol==\"%\":\n",
    "    print(\"{}%{}={}\".format(num1,num2,num1%num2))\n",
    "elif symbol==\"/\":\n",
    "    print(\"{}/{}={}\".format(num1,num2,num1/num2))\n",
    "elif symbol==\"**\":\n",
    "    print(\"{}**{}={}\".format(num1,num2,num1**num2))\n",
    "else:\n",
    "    print(error)"
   ]
  },
  {
   "cell_type": "code",
   "execution_count": null,
   "id": "9c53aa69",
   "metadata": {},
   "outputs": [],
   "source": []
  }
 ],
 "metadata": {
  "kernelspec": {
   "display_name": "Python 3 (ipykernel)",
   "language": "python",
   "name": "python3"
  },
  "language_info": {
   "codemirror_mode": {
    "name": "ipython",
    "version": 3
   },
   "file_extension": ".py",
   "mimetype": "text/x-python",
   "name": "python",
   "nbconvert_exporter": "python",
   "pygments_lexer": "ipython3",
   "version": "3.11.3"
  }
 },
 "nbformat": 4,
 "nbformat_minor": 5
}
