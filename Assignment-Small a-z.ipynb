{
 "cells": [
  {
   "cell_type": "code",
   "execution_count": 11,
   "id": "30541f6c",
   "metadata": {},
   "outputs": [
    {
     "name": "stdout",
     "output_type": "stream",
     "text": [
      " * * * \n",
      "*     *\n",
      "*     *\n",
      " * * *  * *\n"
     ]
    }
   ],
   "source": [
    "x=1\n",
    "while x<=4:\n",
    "    if x==1:\n",
    "        print(\" * * * \")\n",
    "    elif x==2:\n",
    "        print(\"*     *\")\n",
    "    elif x==3:\n",
    "        print(\"*     *\")\n",
    "    else:\n",
    "        print(\" * * *  * *\")\n",
    "    x=x+1"
   ]
  },
  {
   "cell_type": "code",
   "execution_count": 17,
   "id": "e1c30dd0",
   "metadata": {},
   "outputs": [
    {
     "name": "stdout",
     "output_type": "stream",
     "text": [
      "*\n",
      "*\n",
      "* * *\n",
      "*    *\n",
      "* * *\n"
     ]
    }
   ],
   "source": [
    "x=1\n",
    "while x<=5:\n",
    "    if x==1 or x==2:\n",
    "        print(\"*\")\n",
    "    elif x==3 or x==5:\n",
    "        print(\"* * *\")\n",
    "    else:\n",
    "        print(\"*    *\")\n",
    "    x=x+1"
   ]
  },
  {
   "cell_type": "code",
   "execution_count": 4,
   "id": "f7c36433",
   "metadata": {},
   "outputs": [
    {
     "name": "stdout",
     "output_type": "stream",
     "text": [
      "   * * *\n",
      " *\n",
      "*\n",
      "*\n",
      " *\n",
      "   * * *\n"
     ]
    }
   ],
   "source": [
    "x=1\n",
    "while x<=6:\n",
    "    if x==1 or x==6:\n",
    "        print(\"   * * *\")\n",
    "    elif x==2 or x==5:\n",
    "        print(\" *\")\n",
    "    else:\n",
    "        print(\"*\")\n",
    "    x=x+1"
   ]
  },
  {
   "cell_type": "code",
   "execution_count": 7,
   "id": "c7dc69b2",
   "metadata": {},
   "outputs": [
    {
     "name": "stdout",
     "output_type": "stream",
     "text": [
      "     *\n",
      "     *\n",
      " * * *\n",
      "*    *\n",
      " * * *\n"
     ]
    }
   ],
   "source": [
    "x=1\n",
    "while x<=5:\n",
    "    if x==1 or x==2:\n",
    "        print(\"     *\")\n",
    "    elif x==3 or x==5:\n",
    "        print(\" * * *\")\n",
    "    else:\n",
    "        print(\"*    *\")\n",
    "    x=x+1"
   ]
  },
  {
   "cell_type": "code",
   "execution_count": 11,
   "id": "4cc0cc68",
   "metadata": {},
   "outputs": [
    {
     "name": "stdout",
     "output_type": "stream",
     "text": [
      " * * *\n",
      "*     *\n",
      "*  * *\n",
      "*\n",
      " * * * \n"
     ]
    }
   ],
   "source": [
    "x=1\n",
    "while x<=5:\n",
    "    if x==1:\n",
    "        print(\" * * *\")\n",
    "    elif x==2:\n",
    "        print(\"*     *\")\n",
    "    elif x==3:\n",
    "        print(\"*  * *\")\n",
    "    elif x==4:\n",
    "        print(\"*\")\n",
    "    else:\n",
    "        print(\" * * * \")\n",
    "    x=x+1\n",
    "    "
   ]
  },
  {
   "cell_type": "code",
   "execution_count": 17,
   "id": "f6559ed2",
   "metadata": {},
   "outputs": [
    {
     "name": "stdout",
     "output_type": "stream",
     "text": [
      "   * *\n",
      "  *   *\n",
      "  *\n",
      "* * * *\n",
      "  *\n",
      "  *\n"
     ]
    }
   ],
   "source": [
    "x=1\n",
    "while x<=6:\n",
    "    if x==1:\n",
    "        print(\"   * *\")\n",
    "    elif x==2:\n",
    "        print(\"  *   *\")\n",
    "    elif x==3 or x==6 or x==5:\n",
    "        print(\"  *\")\n",
    "    else:\n",
    "        print(\"* * * *\")\n",
    "    x=x+1"
   ]
  },
  {
   "cell_type": "code",
   "execution_count": 26,
   "id": "a2de7595",
   "metadata": {},
   "outputs": [
    {
     "name": "stdout",
     "output_type": "stream",
     "text": [
      " * * *\n",
      "*     *\n",
      " * * **\n",
      "      *\n",
      "*     *\n",
      " * * *\n"
     ]
    }
   ],
   "source": [
    "x=1\n",
    "while x<=6:\n",
    "    if x==1 or x==6:\n",
    "        print(\" * * *\")\n",
    "    elif x==2:\n",
    "        print(\"*     *\")\n",
    "    elif x==3:\n",
    "        print(\" * * **\")\n",
    "    elif x==4:\n",
    "        print(\"      *\")\n",
    "    else:\n",
    "        print(\"*     *\")\n",
    "    x=x+1"
   ]
  },
  {
   "cell_type": "code",
   "execution_count": 28,
   "id": "7e25e0c1",
   "metadata": {},
   "outputs": [
    {
     "name": "stdout",
     "output_type": "stream",
     "text": [
      "*\n",
      "*\n",
      "* * *\n",
      "*    *\n",
      "*    *\n"
     ]
    }
   ],
   "source": [
    "x=1\n",
    "while x<=5:\n",
    "    if x==1 or x==2:\n",
    "        print(\"*\")\n",
    "    elif x==4 or x==5:\n",
    "        print(\"*    *\")\n",
    "    else:\n",
    "        print(\"* * *\")\n",
    "    x=x+1"
   ]
  },
  {
   "cell_type": "code",
   "execution_count": 4,
   "id": "0b55908c",
   "metadata": {},
   "outputs": [
    {
     "name": "stdout",
     "output_type": "stream",
     "text": [
      "   @   \n",
      "\n",
      "   *   \n",
      "   *   \n",
      "   *   \n",
      "   *   \n"
     ]
    }
   ],
   "source": [
    "x=1\n",
    "while x<=6:\n",
    "    if x==1:\n",
    "        print(\"   @   \")\n",
    "    elif x==2:\n",
    "        print(\"\")\n",
    "    else:\n",
    "        print(\"   *   \")\n",
    "    x=x+1"
   ]
  },
  {
   "cell_type": "code",
   "execution_count": 10,
   "id": "f0a36e03",
   "metadata": {},
   "outputs": [
    {
     "name": "stdout",
     "output_type": "stream",
     "text": [
      "   @   \n",
      "   *   \n",
      "   *   \n",
      "   *   \n",
      "*  *\n",
      " ** \n"
     ]
    }
   ],
   "source": [
    "x=1\n",
    "while x<=6:\n",
    "    if x==1:\n",
    "        print(\"   @   \")\n",
    "    elif x==6:\n",
    "        print(\" ** \")\n",
    "    elif x==5:\n",
    "        print(\"*  *\")\n",
    "    else:\n",
    "        print(\"   *   \")\n",
    "    x=x+1"
   ]
  },
  {
   "cell_type": "code",
   "execution_count": 26,
   "id": "afb86be0",
   "metadata": {},
   "outputs": [
    {
     "name": "stdout",
     "output_type": "stream",
     "text": [
      "*  *\n",
      "* *\n",
      "**\n",
      "* *\n",
      "*  *\n"
     ]
    }
   ],
   "source": [
    "x=1\n",
    "while x<=5:\n",
    "    if x==2 or x==4:\n",
    "        print(\"* *\")\n",
    "    elif x==1 or x==5:\n",
    "        print(\"*  *\")\n",
    "    else:\n",
    "        print(\"**\")\n",
    "    x=x+1"
   ]
  },
  {
   "cell_type": "code",
   "execution_count": 30,
   "id": "3565f82f",
   "metadata": {},
   "outputs": [
    {
     "name": "stdout",
     "output_type": "stream",
     "text": [
      "  *\n",
      "  *\n",
      "  *\n",
      "  *\n",
      "  *\n"
     ]
    }
   ],
   "source": [
    "x=1\n",
    "while x<=5:\n",
    "    if x==1 or x==2 or x==3 or x==4:\n",
    "        print(\"  *\")\n",
    "    else:\n",
    "        print(\"  *\")\n",
    "    x=x+1"
   ]
  },
  {
   "cell_type": "code",
   "execution_count": 39,
   "id": "647f24da",
   "metadata": {},
   "outputs": [
    {
     "name": "stdout",
     "output_type": "stream",
     "text": [
      " *   *   *\n",
      "   *  * *  *\n",
      "   *   *   *\n",
      "   *       *\n"
     ]
    }
   ],
   "source": [
    "x=1\n",
    "while x<=4:\n",
    "    if x==1:\n",
    "        print(\" *   *   *\")\n",
    "    elif x==3:\n",
    "        print(\"   *   *   *\")\n",
    "    elif x==2:\n",
    "        print(\"   *  * *  *\")\n",
    "    else:\n",
    "        print(\"   *       *\")\n",
    "    x=x+1"
   ]
  },
  {
   "cell_type": "code",
   "execution_count": 5,
   "id": "5c2b6127",
   "metadata": {},
   "outputs": [
    {
     "name": "stdout",
     "output_type": "stream",
     "text": [
      " *   *   *\n",
      "   *       *\n",
      "   *       *\n",
      "   *       *\n"
     ]
    }
   ],
   "source": [
    "x=1\n",
    "while x<=4:\n",
    "    if x==1:\n",
    "        print(\" *   *   *\")\n",
    "    elif x==2 or x==3 or x==4:\n",
    "        print(\"   *       *\")\n",
    "    x=x+1"
   ]
  },
  {
   "cell_type": "code",
   "execution_count": 7,
   "id": "6c07b3ee",
   "metadata": {},
   "outputs": [
    {
     "name": "stdout",
     "output_type": "stream",
     "text": [
      " * * * \n",
      "*     *\n",
      "*     *\n",
      " * * * \n"
     ]
    }
   ],
   "source": [
    "x=1\n",
    "while x<=4:\n",
    "    if x==2 or x==3:\n",
    "        print(\"*     *\")\n",
    "    elif x==1 or x==4:\n",
    "        print(\" * * * \")\n",
    "    x=x+1"
   ]
  },
  {
   "cell_type": "code",
   "execution_count": 10,
   "id": "9b768ce1",
   "metadata": {},
   "outputs": [
    {
     "name": "stdout",
     "output_type": "stream",
     "text": [
      "* * \n",
      "*  *\n",
      "* * \n",
      "*\n",
      "*\n"
     ]
    }
   ],
   "source": [
    "x=1\n",
    "while x<=5:\n",
    "    if x==4 or x==5:\n",
    "        print(\"*\")\n",
    "    elif x==1 or x==3:\n",
    "        print(\"* * \")\n",
    "    else:\n",
    "        print(\"*  *\")\n",
    "    x=x+1"
   ]
  },
  {
   "cell_type": "code",
   "execution_count": 15,
   "id": "24305d4e",
   "metadata": {},
   "outputs": [
    {
     "name": "stdout",
     "output_type": "stream",
     "text": [
      " * * *\n",
      "*    *\n",
      " * * *\n",
      "     *\n",
      "     * *\n",
      "     *\n"
     ]
    }
   ],
   "source": [
    "x=1\n",
    "while x<=6:\n",
    "    if x==5:\n",
    "        print(\"     * *\")\n",
    "    elif x==1 or x==3:\n",
    "        print(\" * * *\")\n",
    "    elif x==4 or x==6:\n",
    "        print(\"     *\")\n",
    "    else:\n",
    "        print(\"*    *\")\n",
    "    x=x+1"
   ]
  },
  {
   "cell_type": "code",
   "execution_count": 24,
   "id": "cdfbd89a",
   "metadata": {},
   "outputs": [
    {
     "name": "stdout",
     "output_type": "stream",
     "text": [
      "*     *\n",
      " *   * \n",
      "   *   \n",
      " *   * \n",
      "  * *  \n"
     ]
    }
   ],
   "source": [
    "x=1\n",
    "while x<=5:\n",
    "    if x==5:\n",
    "        print(\"  * *  \")\n",
    "    elif x==1:\n",
    "        print(\"*     *\")\n",
    "    elif x==2 or x==4:\n",
    "        print(\" *   * \")\n",
    "    else:\n",
    "        print(\"   *   \")\n",
    "    x=x+1"
   ]
  },
  {
   "cell_type": "code",
   "execution_count": 25,
   "id": "123bad12",
   "metadata": {},
   "outputs": [
    {
     "name": "stdout",
     "output_type": "stream",
     "text": [
      "* * *\n",
      "*\n",
      "* * *\n",
      "    *\n",
      "* * *\n"
     ]
    }
   ],
   "source": [
    "x=1\n",
    "while x<=5:\n",
    "    if x==2:\n",
    "        print(\"*\")\n",
    "    elif x==1 or x==3 or x==5:\n",
    "        print(\"* * *\")\n",
    "    else:\n",
    "        print(\"    *\")\n",
    "    x=x+1"
   ]
  },
  {
   "cell_type": "code",
   "execution_count": 29,
   "id": "03db7c66",
   "metadata": {},
   "outputs": [
    {
     "name": "stdout",
     "output_type": "stream",
     "text": [
      "  *\n",
      "  *\n",
      "* * * * *\n",
      "  *\n",
      "   * * *\n"
     ]
    }
   ],
   "source": [
    "x=1\n",
    "while x<=5:\n",
    "    if x==1 or x==2 or x==4:\n",
    "        print(\"  *\")\n",
    "    elif x==5:\n",
    "        print(\"   * * *\")\n",
    "    else:\n",
    "        print(\"* * * * *\")\n",
    "    x=x+1"
   ]
  },
  {
   "cell_type": "code",
   "execution_count": 31,
   "id": "663a7e36",
   "metadata": {},
   "outputs": [
    {
     "name": "stdout",
     "output_type": "stream",
     "text": [
      "*     *\n",
      "*     *\n",
      "*     *\n",
      " * * *  * *\n"
     ]
    }
   ],
   "source": [
    "x=1\n",
    "while x<=4:\n",
    "    if x==1:\n",
    "        print(\"*     *\")\n",
    "    elif x==2 or x==3:\n",
    "        print(\"*     *\")\n",
    "    else:\n",
    "        print(\" * * *  * *\")\n",
    "    x=x+1"
   ]
  },
  {
   "cell_type": "code",
   "execution_count": 34,
   "id": "6a817d8a",
   "metadata": {},
   "outputs": [
    {
     "name": "stdout",
     "output_type": "stream",
     "text": [
      "*     *\n",
      " *   *\n",
      "  * *\n",
      "   *    \n"
     ]
    }
   ],
   "source": [
    "x=1\n",
    "while x<=4:\n",
    "    if x==1:\n",
    "        print(\"*     *\")\n",
    "    elif x==2:\n",
    "        print(\" *   *\")\n",
    "    elif x==3:\n",
    "        print(\"  * *\")\n",
    "    else:\n",
    "        print(\"   *    \")\n",
    "    x=x+1"
   ]
  },
  {
   "cell_type": "code",
   "execution_count": 36,
   "id": "0db35fe7",
   "metadata": {},
   "outputs": [
    {
     "name": "stdout",
     "output_type": "stream",
     "text": [
      "   *       *\n",
      "   *   *   *\n",
      "   *  * *  *\n",
      "     *   *\n"
     ]
    }
   ],
   "source": [
    "x=1\n",
    "while x<=4:\n",
    "    if x==4:\n",
    "        print(\"     *   *\")\n",
    "    elif x==2:\n",
    "        print(\"   *   *   *\")\n",
    "    elif x==3:\n",
    "        print(\"   *  * *  *\")\n",
    "    else:\n",
    "        print(\"   *       *\")\n",
    "    x=x+1"
   ]
  },
  {
   "cell_type": "code",
   "execution_count": 37,
   "id": "a5ef9627",
   "metadata": {},
   "outputs": [
    {
     "name": "stdout",
     "output_type": "stream",
     "text": [
      "*     *\n",
      " *   *\n",
      "   *   \n",
      " *   *\n",
      "*     *\n"
     ]
    }
   ],
   "source": [
    "x=1\n",
    "while x<=5:\n",
    "    if x==2 or x==4:\n",
    "        print(\" *   *\")\n",
    "    elif x==1 or x==5:\n",
    "        print(\"*     *\")\n",
    "    else:\n",
    "        print(\"   *   \")\n",
    "    x=x+1"
   ]
  },
  {
   "cell_type": "code",
   "execution_count": 39,
   "id": "5852ed98",
   "metadata": {},
   "outputs": [
    {
     "name": "stdout",
     "output_type": "stream",
     "text": [
      "*     *\n",
      "*     *\n",
      " * * **\n",
      "      *\n",
      "*     *\n",
      " * * *\n"
     ]
    }
   ],
   "source": [
    "x=1\n",
    "while x<=6:\n",
    "    if x==6:\n",
    "        print(\" * * *\")\n",
    "    elif x==1 or x==2:\n",
    "        print(\"*     *\")\n",
    "    elif x==3:\n",
    "        print(\" * * **\")\n",
    "    elif x==4:\n",
    "        print(\"      *\")\n",
    "    else:\n",
    "        print(\"*     *\")\n",
    "    x=x+1"
   ]
  },
  {
   "cell_type": "code",
   "execution_count": 52,
   "id": "63f17454",
   "metadata": {},
   "outputs": [
    {
     "name": "stdout",
     "output_type": "stream",
     "text": [
      "* * * *\n",
      "    *\n",
      "  *    \n",
      "* * * *\n"
     ]
    }
   ],
   "source": [
    "x=1\n",
    "while x<=4:\n",
    "    if x==2:\n",
    "        print(\"    *\")\n",
    "    elif x==1 or x==4:\n",
    "        print(\"* * * *\")\n",
    "    elif x==3:\n",
    "        print(\"  *    \")\n",
    "    x=x+1"
   ]
  },
  {
   "cell_type": "code",
   "execution_count": null,
   "id": "21886a34",
   "metadata": {},
   "outputs": [],
   "source": []
  }
 ],
 "metadata": {
  "kernelspec": {
   "display_name": "Python 3 (ipykernel)",
   "language": "python",
   "name": "python3"
  },
  "language_info": {
   "codemirror_mode": {
    "name": "ipython",
    "version": 3
   },
   "file_extension": ".py",
   "mimetype": "text/x-python",
   "name": "python",
   "nbconvert_exporter": "python",
   "pygments_lexer": "ipython3",
   "version": "3.11.3"
  }
 },
 "nbformat": 4,
 "nbformat_minor": 5
}
