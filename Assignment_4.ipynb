{
 "cells": [
  {
   "cell_type": "markdown",
   "id": "c4638e3f",
   "metadata": {},
   "source": [
    "### 1. Write a Python program to loop through all the elements in a list"
   ]
  },
  {
   "cell_type": "code",
   "execution_count": 15,
   "id": "9312eace",
   "metadata": {},
   "outputs": [
    {
     "name": "stdout",
     "output_type": "stream",
     "text": [
      "enter the list: python123\n",
      "p\n",
      "y\n",
      "t\n",
      "h\n",
      "o\n",
      "n\n",
      "1\n",
      "2\n",
      "3\n"
     ]
    }
   ],
   "source": [
    "list1=list((input(\"enter the list: \")))\n",
    "for i in list1:\n",
    "    print(i)"
   ]
  },
  {
   "cell_type": "markdown",
   "id": "984d64e7",
   "metadata": {},
   "source": [
    "### 2. Write a Python program where you will ask the users to insert elements in a list"
   ]
  },
  {
   "cell_type": "code",
   "execution_count": 4,
   "id": "b6adf84a",
   "metadata": {},
   "outputs": [
    {
     "name": "stdout",
     "output_type": "stream",
     "text": [
      "enter the input: programming143\n",
      "['p', 'r', 'o', 'g', 'r', 'a', 'm', 'm', 'i', 'n', 'g', '1', '4', '3']\n"
     ]
    }
   ],
   "source": [
    "list1=[]\n",
    "var=input(\"enter the input: \")\n",
    "for i in range(len(var)):\n",
    "    list1.append(var[i])\n",
    "print(list1)"
   ]
  },
  {
   "cell_type": "markdown",
   "id": "aeae2468",
   "metadata": {},
   "source": [
    "### 3. Write a Python program to remove all the odd index value from a list and only even index elements should remain"
   ]
  },
  {
   "cell_type": "code",
   "execution_count": 26,
   "id": "d5a842ad",
   "metadata": {},
   "outputs": [
    {
     "name": "stdout",
     "output_type": "stream",
     "text": [
      "enter the list: abcdefg1235\n",
      "aceg25"
     ]
    }
   ],
   "source": [
    "list1=list((input(\"enter the list: \")))\n",
    "for i in range(len(list1)):\n",
    "    if i%2==0:\n",
    "        print(list1[i],end=\"\")"
   ]
  },
  {
   "cell_type": "markdown",
   "id": "fe03dadd",
   "metadata": {},
   "source": [
    "### 4. Write a Python program to sum and multiply all the items in a list"
   ]
  },
  {
   "cell_type": "code",
   "execution_count": 12,
   "id": "8458f38f",
   "metadata": {},
   "outputs": [
    {
     "name": "stdout",
     "output_type": "stream",
     "text": [
      "enter the elements: 1 2 3 4 5\n",
      " \n",
      "sum of the list:- 15\n",
      "\n",
      "multiplication of the list:- 120\n"
     ]
    }
   ],
   "source": [
    "sum1=0\n",
    "prod1=1\n",
    "list1=(input(\"enter the elements: \").split())\n",
    "for x in list1:\n",
    "    sum1=sum1+int(x)\n",
    "    prod1=prod1*int(x)\n",
    "print(\" \")\n",
    "print(\"sum of the list:-\",sum1)\n",
    "print(\"\")\n",
    "print(\"multiplication of the list:-\",prod1)"
   ]
  },
  {
   "cell_type": "markdown",
   "id": "c096a9d2",
   "metadata": {},
   "source": [
    "### 5. Write a Python program to get the maximum and minimum numbers from a list"
   ]
  },
  {
   "cell_type": "code",
   "execution_count": 33,
   "id": "ff29b9b8",
   "metadata": {},
   "outputs": [
    {
     "name": "stdout",
     "output_type": "stream",
     "text": [
      "enter the elements: 12 36 13 35 63\n",
      "\n",
      "Max:- 63\n",
      "min:- 12\n"
     ]
    }
   ],
   "source": [
    "list1=input(\"enter the elements: \").split()\n",
    "if len(list1)>0:\n",
    "    list1.sort()\n",
    "print(\"\")\n",
    "print(\"Max:-\",list1[-1])\n",
    "print(\"min:-\",list1[0])"
   ]
  },
  {
   "cell_type": "markdown",
   "id": "ee1eeeb7",
   "metadata": {},
   "source": [
    "### 6. Write a Python program to print a specified list after removing the 0th, 4th and 5th elements."
   ]
  },
  {
   "cell_type": "code",
   "execution_count": 25,
   "id": "2de49319",
   "metadata": {},
   "outputs": [
    {
     "name": "stdout",
     "output_type": "stream",
     "text": [
      "enter the elements: lakshman kiran kumar swetha sri surya prakash venkat\n",
      "\n",
      "['kiran', 'kumar', 'swetha', 'prakash', 'venkat']\n"
     ]
    }
   ],
   "source": [
    "list1=(input(\"enter the elements: \").split())\n",
    "specified_list=[]\n",
    "for i in list1:\n",
    "    if list1.index(i)==0 or list1.index(i)==4 or list1.index(i)==5:\n",
    "        continue\n",
    "    else:\n",
    "        specified_list.append(i)\n",
    "print(\"\")\n",
    "print(specified_list)"
   ]
  },
  {
   "cell_type": "markdown",
   "id": "36f23aca",
   "metadata": {},
   "source": [
    "### 7. Write a Python program to convert a list of characters into a string"
   ]
  },
  {
   "cell_type": "code",
   "execution_count": 45,
   "id": "bcf1f106",
   "metadata": {},
   "outputs": [
    {
     "name": "stdout",
     "output_type": "stream",
     "text": [
      "enter the elements: i 143 python\n",
      "\n",
      "string is: i143python\n"
     ]
    }
   ],
   "source": [
    "list1=(input(\"enter the elements: \").split())\n",
    "string=\"\"\n",
    "for x in list1:\n",
    "    string=string+x\n",
    "print(\"\")  \n",
    "print(\"string is:\",string)"
   ]
  },
  {
   "cell_type": "markdown",
   "id": "af63e810",
   "metadata": {},
   "source": [
    "### 8. Write a Python program to compute average of given lists."
   ]
  },
  {
   "cell_type": "code",
   "execution_count": 38,
   "id": "3b8de3c5",
   "metadata": {},
   "outputs": [
    {
     "name": "stdout",
     "output_type": "stream",
     "text": [
      "enter the elements: 5 10 15 20 25 30\n",
      "\n",
      "the average is: 17.5\n"
     ]
    }
   ],
   "source": [
    "list1=(input(\"enter the elements: \").split())\n",
    "sum1=0\n",
    "for x in list1:\n",
    "    sum1=sum1+int(x)\n",
    "average=sum1/len(list1)\n",
    "print(\"\")\n",
    "print(\"the average is:\",average)"
   ]
  },
  {
   "cell_type": "markdown",
   "id": "306c5092",
   "metadata": {},
   "source": [
    "## 9. Write a Python program to count integer in a given mixed list."
   ]
  },
  {
   "cell_type": "code",
   "execution_count": 30,
   "id": "b381949d",
   "metadata": {},
   "outputs": [
    {
     "name": "stdout",
     "output_type": "stream",
     "text": [
      "enter the elements: 34 ab 52 python 4.7 8 21 kk 143 ss \n",
      " \n",
      "number of integers in list: 5\n"
     ]
    }
   ],
   "source": [
    "list1=(input(\"enter the elements: \").split())\n",
    "count=0\n",
    "for i in list1:\n",
    "    if i.isdigit():\n",
    "        count=count+1\n",
    "print(\" \")\n",
    "print(\"number of integers in list:\",count)"
   ]
  },
  {
   "cell_type": "markdown",
   "id": "e1a80502",
   "metadata": {},
   "source": [
    "### 10. Write a Python program to reverse the list"
   ]
  },
  {
   "cell_type": "code",
   "execution_count": 64,
   "id": "26b1fd62",
   "metadata": {},
   "outputs": [
    {
     "name": "stdout",
     "output_type": "stream",
     "text": [
      "enter the elements: 10 76 9.7 abc python 25\n",
      "\n",
      "the reverse list: ['25', 'python', 'abc', '9.7', '76', '10']\n"
     ]
    }
   ],
   "source": [
    "list1=(input(\"enter the elements: \").split())\n",
    "reverse_list=[]\n",
    "for x in list1:\n",
    "    element=list1[-1]\n",
    "    list1=list1[0:-1]\n",
    "    reverse_list.append(element)\n",
    "print(\"\")\n",
    "print(\"the reverse list:\",reverse_list)"
   ]
  },
  {
   "cell_type": "markdown",
   "id": "5f5da7b3",
   "metadata": {},
   "source": [
    "### 11. Write a Python program convert a given string to a tuple"
   ]
  },
  {
   "cell_type": "code",
   "execution_count": 54,
   "id": "f4641855",
   "metadata": {},
   "outputs": [
    {
     "name": "stdout",
     "output_type": "stream",
     "text": [
      "enter the string: I Love Vizag 26\n",
      "\n",
      "the tuple is: ('I', 'Love', 'Vizag', '26')\n"
     ]
    }
   ],
   "source": [
    "string=input(\"enter the string: \").split()\n",
    "list1=[]\n",
    "\n",
    "for i in string:\n",
    "    list1.append(i)\n",
    "tuple1=tuple(list1) \n",
    "\n",
    "print(\"\")\n",
    "print(\"the tuple is:\",tuple1)"
   ]
  },
  {
   "cell_type": "code",
   "execution_count": null,
   "id": "3b8614fc",
   "metadata": {},
   "outputs": [],
   "source": []
  }
 ],
 "metadata": {
  "kernelspec": {
   "display_name": "Python 3 (ipykernel)",
   "language": "python",
   "name": "python3"
  },
  "language_info": {
   "codemirror_mode": {
    "name": "ipython",
    "version": 3
   },
   "file_extension": ".py",
   "mimetype": "text/x-python",
   "name": "python",
   "nbconvert_exporter": "python",
   "pygments_lexer": "ipython3",
   "version": "3.11.3"
  }
 },
 "nbformat": 4,
 "nbformat_minor": 5
}
